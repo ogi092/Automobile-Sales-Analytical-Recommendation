{
 "cells": [
  {
   "cell_type": "markdown",
   "metadata": {},
   "source": [
    "## 1. Introduction\n",
    "\n",
    "---\n",
    "\n",
    "Name : Ogi Hadicahyo\n",
    "\n",
    "Link Tableau: <a href=\"https://public.tableau.com/app/profile/ogi.hadicahyo/viz/Milestone1_OgiHadicahyo/Dashboard1?publish=yes\"> Tableau</a>.\n",
    "\n",
    "---\n",
    "\n",
    "**Background**\n",
    "\n",
    "I am a data scientist interested in exploring datasets to gain valuable insights. Recently, I found a dataset about car prices in Australia in 2023 on the Kaggle platform. This dataset provides the latest information on car prices in the Australian market as well as the factors that influence prices, including the make, model, type and features of the car.\n",
    "\n",
    "This dataset is interesting to me because I want to analyze the trends and factors influencing car prices in Australia. I want to provide valuable insights for automotive industry players, such as car manufacturers, dealers and consumers. This analysis can also assist in making strategic decisions regarding marketing, pricing and product development in the Australian automotive market.\n",
    "\n",
    "By leveraging this dataset, I hope to provide deeper insight into the car market in Australia in 2023 and make a significant contribution to the automotive industry. Therefore, I will create an informative and easy to understand visualization to express the findings from this data analysis.\n",
    "\n",
    "**SMART FRAMEWORK**\n",
    "\n",
    "In an effort to plan projects effectively, we will use the SMART Framework. SMART is an abbreviation for Specific, Measurable, Achievable, Relevant, and Time-bound. This helps set clear and measurable goals, ensuring focus, measurement of progress, and efficiency in achieving project goals.\n",
    "1. Specific: increase income from selling cars in Australia by 2023\n",
    "\n",
    "2. Measurable: targeting a 40% increase in income from selling cars in Australia\n",
    "      \n",
    "3. Achievable: Analyze the condition of car prices in 2023 in Australia and how this is influenced by certain characteristics such as brand name, location, engine type and key features that are unique to each car.\n",
    "    \n",
    "4. Relevant: Analysis of car price conditions in 2022 in Australia could increase revenue in 2023\n",
    "\n",
    "5. Time-bound: a 40% increase in revenue can be seen after 6 months\n",
    "\n",
    "**Problem Statement**\n",
    "\n",
    "To make analysis and problem solving easier, I will also use the 5W+1H framework in this problem solving analysis. This 5W+1H will be used according to the car sales data that we have.\n",
    "\n",
    "1. <b> VISUALIZATION </b>\n",
    "\n",
    "    - What is the average car price in Australia based on city?\n",
    "\n",
    "    - What are the 10 most sold car brands in Australian cities?\n",
    "\n",
    "    - How does the average price of cars vary with the brand car?\n",
    "\n",
    "    - How do car prices differ based on the engine cylinder car?\n",
    "\n",
    "    - Is there an increase in car sales from 2013 to 2023?\n",
    "2. <b> DESCRIPTIVE STATISTICS </b>\n",
    "\n",
    "    - How is the data on car sales prices from 2013 to 2023 centralized in Australia?\n",
    "\n",
    "    - How do specific features affect the pricing of the cars?\n",
    "\n",
    "3. <b> INFERENTIAL STATISTICS </b>\n",
    "\n",
    "    - Is there a significant price difference between existing car brands?  \n",
    "\n",
    "**Dataset**\n",
    "\n",
    "The data is obtained from Kaggle where this dataset is about the latest information on car prices in Australia for the year 2023 and insights into the trends and factors influencing the car prices in Australia where it covers various brands, models, types, and features of cars sold in the Australian market. The dataset has over 16,000 records of car listings from various online platforms in Australia.\n",
    "\n",
    "- Link Dataset: <a href=\"https://www.kaggle.com/datasets/nelgiriyewithana/australian-vehicle-prices\"> Kaggle</a>.\n",
    "- Title : Australian Vehicle Prices\n",
    "\n",
    "| Column | Description |\n",
    "| --- | --- |\n",
    "| Brand | Name of the car manufacturer |\n",
    "| Year | Year of manufacture or release |\n",
    "| Model | Name or code of the car model |\n",
    "| Car/Suv | Type of the car (car or suv) |\n",
    "| Title | Title or description of the car |\n",
    "| UsedOrNew | Condition of the car (used or new) |\n",
    "| Transmission | Type of transmission (manual or automatic) |\n",
    "| Engine | Engine capacity or power (in litres or kilowatts) |\n",
    "| DriveType | Type of drive (front-wheel, rear-wheel, or all-wheel) |\n",
    "| FuelType | Type of fuel (petrol, diesel, hybrid, or electric) |\n",
    "| FuelConsumption | Fuel consumption rate (in litres per 100 km) |\n",
    "| Kilometres | Distance travelled by the car (in kilometres) |\n",
    "| ColourExtInt | Colour of the car (exterior and interior) |\n",
    "| Location | Location of the car (city and state) |\n",
    "| CylindersinEngine | Number of cylinders in the engine |\n",
    "| BodyType | Shape or style of the car body (sedan, hatchback, coupe, etc.)  |\n",
    "| Doors | Number of doors in the car |\n",
    "| Seats | Number of seats in the car |\n",
    "| Price | Price of the car (in Australian dollars) |"
   ]
  },
  {
   "cell_type": "code",
   "execution_count": 1,
   "metadata": {},
   "outputs": [],
   "source": [
    "import pandas as pd\n",
    "from scipy import stats\n",
    "import seaborn as sns\n",
    "import matplotlib.pyplot as plt"
   ]
  },
  {
   "cell_type": "markdown",
   "metadata": {},
   "source": [
    "# Data Loading"
   ]
  },
  {
   "cell_type": "code",
   "execution_count": 2,
   "metadata": {},
   "outputs": [],
   "source": [
    "# Import File\n",
    "df = pd.read_csv(\"Australian Vehicle Prices.csv\")"
   ]
  },
  {
   "cell_type": "markdown",
   "metadata": {},
   "source": [
    "---"
   ]
  },
  {
   "cell_type": "code",
   "execution_count": 3,
   "metadata": {},
   "outputs": [],
   "source": [
    "# Duplicate the file and put it in the df_1 variable so that we don't disturb the original data\n",
    "df_1 = df.copy()"
   ]
  },
  {
   "cell_type": "markdown",
   "metadata": {},
   "source": [
    "# Data Cleaning"
   ]
  },
  {
   "cell_type": "code",
   "execution_count": 4,
   "metadata": {},
   "outputs": [
    {
     "name": "stdout",
     "output_type": "stream",
     "text": [
      "<class 'pandas.core.frame.DataFrame'>\n",
      "RangeIndex: 16734 entries, 0 to 16733\n",
      "Data columns (total 19 columns):\n",
      " #   Column             Non-Null Count  Dtype  \n",
      "---  ------             --------------  -----  \n",
      " 0   Brand              16733 non-null  object \n",
      " 1   Year               16733 non-null  float64\n",
      " 2   Model              16733 non-null  object \n",
      " 3   Car/Suv            16706 non-null  object \n",
      " 4   Title              16733 non-null  object \n",
      " 5   UsedOrNew          16733 non-null  object \n",
      " 6   Transmission       16733 non-null  object \n",
      " 7   Engine             16733 non-null  object \n",
      " 8   DriveType          16733 non-null  object \n",
      " 9   FuelType           16733 non-null  object \n",
      " 10  FuelConsumption    16733 non-null  object \n",
      " 11  Kilometres         16733 non-null  object \n",
      " 12  ColourExtInt       16733 non-null  object \n",
      " 13  Location           16284 non-null  object \n",
      " 14  CylindersinEngine  16733 non-null  object \n",
      " 15  BodyType           16452 non-null  object \n",
      " 16  Doors              15130 non-null  object \n",
      " 17  Seats              15029 non-null  object \n",
      " 18  Price              16731 non-null  object \n",
      "dtypes: float64(1), object(18)\n",
      "memory usage: 2.4+ MB\n"
     ]
    },
    {
     "data": {
      "text/html": [
       "<div>\n",
       "<style scoped>\n",
       "    .dataframe tbody tr th:only-of-type {\n",
       "        vertical-align: middle;\n",
       "    }\n",
       "\n",
       "    .dataframe tbody tr th {\n",
       "        vertical-align: top;\n",
       "    }\n",
       "\n",
       "    .dataframe thead th {\n",
       "        text-align: right;\n",
       "    }\n",
       "</style>\n",
       "<table border=\"1\" class=\"dataframe\">\n",
       "  <thead>\n",
       "    <tr style=\"text-align: right;\">\n",
       "      <th></th>\n",
       "      <th>Brand</th>\n",
       "      <th>Year</th>\n",
       "      <th>Model</th>\n",
       "      <th>Car/Suv</th>\n",
       "      <th>Title</th>\n",
       "      <th>UsedOrNew</th>\n",
       "      <th>Transmission</th>\n",
       "      <th>Engine</th>\n",
       "      <th>DriveType</th>\n",
       "      <th>FuelType</th>\n",
       "      <th>FuelConsumption</th>\n",
       "      <th>Kilometres</th>\n",
       "      <th>ColourExtInt</th>\n",
       "      <th>Location</th>\n",
       "      <th>CylindersinEngine</th>\n",
       "      <th>BodyType</th>\n",
       "      <th>Doors</th>\n",
       "      <th>Seats</th>\n",
       "      <th>Price</th>\n",
       "    </tr>\n",
       "  </thead>\n",
       "  <tbody>\n",
       "    <tr>\n",
       "      <th>0</th>\n",
       "      <td>Ssangyong</td>\n",
       "      <td>2022.0</td>\n",
       "      <td>Rexton</td>\n",
       "      <td>Sutherland Isuzu Ute</td>\n",
       "      <td>2022 Ssangyong Rexton Ultimate (awd)</td>\n",
       "      <td>DEMO</td>\n",
       "      <td>Automatic</td>\n",
       "      <td>4 cyl, 2.2 L</td>\n",
       "      <td>AWD</td>\n",
       "      <td>Diesel</td>\n",
       "      <td>8.7 L / 100 km</td>\n",
       "      <td>5595</td>\n",
       "      <td>White / Black</td>\n",
       "      <td>Caringbah, NSW</td>\n",
       "      <td>4 cyl</td>\n",
       "      <td>SUV</td>\n",
       "      <td>4 Doors</td>\n",
       "      <td>7 Seats</td>\n",
       "      <td>51990</td>\n",
       "    </tr>\n",
       "    <tr>\n",
       "      <th>1</th>\n",
       "      <td>MG</td>\n",
       "      <td>2022.0</td>\n",
       "      <td>MG3</td>\n",
       "      <td>Hatchback</td>\n",
       "      <td>2022 MG MG3 Auto Excite (with Navigation)</td>\n",
       "      <td>USED</td>\n",
       "      <td>Automatic</td>\n",
       "      <td>4 cyl, 1.5 L</td>\n",
       "      <td>Front</td>\n",
       "      <td>Premium</td>\n",
       "      <td>6.7 L / 100 km</td>\n",
       "      <td>16</td>\n",
       "      <td>Black / Black</td>\n",
       "      <td>Brookvale, NSW</td>\n",
       "      <td>4 cyl</td>\n",
       "      <td>Hatchback</td>\n",
       "      <td>5 Doors</td>\n",
       "      <td>5 Seats</td>\n",
       "      <td>19990</td>\n",
       "    </tr>\n",
       "    <tr>\n",
       "      <th>2</th>\n",
       "      <td>BMW</td>\n",
       "      <td>2022.0</td>\n",
       "      <td>430I</td>\n",
       "      <td>Coupe</td>\n",
       "      <td>2022 BMW 430I M Sport</td>\n",
       "      <td>USED</td>\n",
       "      <td>Automatic</td>\n",
       "      <td>4 cyl, 2 L</td>\n",
       "      <td>Rear</td>\n",
       "      <td>Premium</td>\n",
       "      <td>6.6 L / 100 km</td>\n",
       "      <td>8472</td>\n",
       "      <td>Grey / White</td>\n",
       "      <td>Sylvania, NSW</td>\n",
       "      <td>4 cyl</td>\n",
       "      <td>Coupe</td>\n",
       "      <td>2 Doors</td>\n",
       "      <td>4 Seats</td>\n",
       "      <td>108988</td>\n",
       "    </tr>\n",
       "    <tr>\n",
       "      <th>3</th>\n",
       "      <td>Mercedes-Benz</td>\n",
       "      <td>2011.0</td>\n",
       "      <td>E500</td>\n",
       "      <td>Coupe</td>\n",
       "      <td>2011 Mercedes-Benz E500 Elegance</td>\n",
       "      <td>USED</td>\n",
       "      <td>Automatic</td>\n",
       "      <td>8 cyl, 5.5 L</td>\n",
       "      <td>Rear</td>\n",
       "      <td>Premium</td>\n",
       "      <td>11 L / 100 km</td>\n",
       "      <td>136517</td>\n",
       "      <td>White / Brown</td>\n",
       "      <td>Mount Druitt, NSW</td>\n",
       "      <td>8 cyl</td>\n",
       "      <td>Coupe</td>\n",
       "      <td>2 Doors</td>\n",
       "      <td>4 Seats</td>\n",
       "      <td>32990</td>\n",
       "    </tr>\n",
       "    <tr>\n",
       "      <th>4</th>\n",
       "      <td>Renault</td>\n",
       "      <td>2022.0</td>\n",
       "      <td>Arkana</td>\n",
       "      <td>SUV</td>\n",
       "      <td>2022 Renault Arkana Intens</td>\n",
       "      <td>USED</td>\n",
       "      <td>Automatic</td>\n",
       "      <td>4 cyl, 1.3 L</td>\n",
       "      <td>Front</td>\n",
       "      <td>Unleaded</td>\n",
       "      <td>6 L / 100 km</td>\n",
       "      <td>1035</td>\n",
       "      <td>Grey / Black</td>\n",
       "      <td>Castle Hill, NSW</td>\n",
       "      <td>4 cyl</td>\n",
       "      <td>SUV</td>\n",
       "      <td>4 Doors</td>\n",
       "      <td>5 Seats</td>\n",
       "      <td>34990</td>\n",
       "    </tr>\n",
       "  </tbody>\n",
       "</table>\n",
       "</div>"
      ],
      "text/plain": [
       "           Brand    Year   Model               Car/Suv  \\\n",
       "0      Ssangyong  2022.0  Rexton  Sutherland Isuzu Ute   \n",
       "1             MG  2022.0     MG3             Hatchback   \n",
       "2            BMW  2022.0    430I                 Coupe   \n",
       "3  Mercedes-Benz  2011.0    E500                 Coupe   \n",
       "4        Renault  2022.0  Arkana                   SUV   \n",
       "\n",
       "                                       Title UsedOrNew Transmission  \\\n",
       "0       2022 Ssangyong Rexton Ultimate (awd)      DEMO    Automatic   \n",
       "1  2022 MG MG3 Auto Excite (with Navigation)      USED    Automatic   \n",
       "2                      2022 BMW 430I M Sport      USED    Automatic   \n",
       "3           2011 Mercedes-Benz E500 Elegance      USED    Automatic   \n",
       "4                 2022 Renault Arkana Intens      USED    Automatic   \n",
       "\n",
       "         Engine DriveType  FuelType FuelConsumption Kilometres   ColourExtInt  \\\n",
       "0  4 cyl, 2.2 L       AWD    Diesel  8.7 L / 100 km       5595  White / Black   \n",
       "1  4 cyl, 1.5 L     Front   Premium  6.7 L / 100 km         16  Black / Black   \n",
       "2    4 cyl, 2 L      Rear   Premium  6.6 L / 100 km       8472   Grey / White   \n",
       "3  8 cyl, 5.5 L      Rear   Premium   11 L / 100 km     136517  White / Brown   \n",
       "4  4 cyl, 1.3 L     Front  Unleaded    6 L / 100 km       1035   Grey / Black   \n",
       "\n",
       "            Location CylindersinEngine   BodyType     Doors     Seats   Price  \n",
       "0     Caringbah, NSW             4 cyl        SUV   4 Doors   7 Seats   51990  \n",
       "1     Brookvale, NSW             4 cyl  Hatchback   5 Doors   5 Seats   19990  \n",
       "2      Sylvania, NSW             4 cyl      Coupe   2 Doors   4 Seats  108988  \n",
       "3  Mount Druitt, NSW             8 cyl      Coupe   2 Doors   4 Seats   32990  \n",
       "4   Castle Hill, NSW             4 cyl        SUV   4 Doors   5 Seats   34990  "
      ]
     },
     "execution_count": 4,
     "metadata": {},
     "output_type": "execute_result"
    }
   ],
   "source": [
    "# Data Information\n",
    "df_1.info()\n",
    "df_1.head()"
   ]
  },
  {
   "cell_type": "markdown",
   "metadata": {},
   "source": [
    "From the information above, the data has 16734 rows with 19 columns. However, it appears that there are still gaps in the data and there are also columns whose types do not match. Therefore, we will clean the data so that the data can be used for further analysis"
   ]
  },
  {
   "cell_type": "code",
   "execution_count": 5,
   "metadata": {},
   "outputs": [
    {
     "name": "stdout",
     "output_type": "stream",
     "text": [
      "<class 'pandas.core.frame.DataFrame'>\n",
      "Index: 14586 entries, 0 to 16733\n",
      "Data columns (total 19 columns):\n",
      " #   Column             Non-Null Count  Dtype  \n",
      "---  ------             --------------  -----  \n",
      " 0   Brand              14586 non-null  object \n",
      " 1   Year               14586 non-null  float64\n",
      " 2   Model              14586 non-null  object \n",
      " 3   Car/Suv            14586 non-null  object \n",
      " 4   Title              14586 non-null  object \n",
      " 5   UsedOrNew          14586 non-null  object \n",
      " 6   Transmission       14586 non-null  object \n",
      " 7   Engine             14586 non-null  object \n",
      " 8   DriveType          14586 non-null  object \n",
      " 9   FuelType           14586 non-null  object \n",
      " 10  FuelConsumption    14586 non-null  object \n",
      " 11  Kilometres         14586 non-null  object \n",
      " 12  ColourExtInt       14586 non-null  object \n",
      " 13  Location           14586 non-null  object \n",
      " 14  CylindersinEngine  14586 non-null  object \n",
      " 15  BodyType           14586 non-null  object \n",
      " 16  Doors              14586 non-null  object \n",
      " 17  Seats              14586 non-null  object \n",
      " 18  Price              14586 non-null  object \n",
      "dtypes: float64(1), object(18)\n",
      "memory usage: 2.2+ MB\n"
     ]
    }
   ],
   "source": [
    "# delete empty data\n",
    "df_1 = df_1.dropna()\n",
    "df_1.info()"
   ]
  },
  {
   "cell_type": "markdown",
   "metadata": {},
   "source": [
    "It can be seen from the information above that there is no empty data and all columns have the same number of values. After deleting empty data, the number of rows in the data is reduced to 14586 rows"
   ]
  },
  {
   "cell_type": "code",
   "execution_count": 6,
   "metadata": {},
   "outputs": [],
   "source": [
    "# Delete Duplicate Data\n",
    "df_1 = df_1.drop_duplicates()"
   ]
  },
  {
   "cell_type": "markdown",
   "metadata": {},
   "source": [
    "In the location column, the column has two values, namely city and state. Therefore, we need to separate these values and create a new column containing the city and state of each data"
   ]
  },
  {
   "cell_type": "code",
   "execution_count": 7,
   "metadata": {},
   "outputs": [],
   "source": [
    "# Separate the 'Location' data column and create two new columns named 'City' and 'State'\n",
    "df_1[['City', 'State']] = df_1['Location'].str.split(', ', expand=True)"
   ]
  },
  {
   "cell_type": "markdown",
   "metadata": {},
   "source": [
    "After this, we will carry out data adjustments where we delete unnecessary data. Data that will be deleted includes:\n",
    "\n",
    "`'Year'`: Data below 2013 will be deleted, this is because the data has expired and is no longer in accordance with current market conditions.\n",
    "\n",
    "`'FuelType'`: Data that has the 'LPG' category will be deleted, this is because nowadays there are no vehicles that still use LPG fuel. Apart from that, data in the '-' category will also be deleted because the data is considered unclear and could potentially interfere with the analysis results later\n",
    "\n",
    "`'Transmission'`: data with the transmission type category '-' will be deleted because the data is considered unclear and could potentially interfere with the analysis results later.\n",
    "\n",
    "`'CylindersinEngine'`: data with the transmission type category '0 L' will be deleted because the data is considered unclear and inappropriate and could potentially interfere with the analysis results later.\n",
    "\n",
    "`'Price'`: data with the price 'POA' will be deleted because this data means the price has not yet been determined, which means the car still does not have a price and could potentially interfere with the analysis results later."
   ]
  },
  {
   "cell_type": "code",
   "execution_count": 8,
   "metadata": {},
   "outputs": [],
   "source": [
    "# Deleting Data below 2013\n",
    "df_1 = df_1[df_1['Year'] >= 2013]\n",
    "\n",
    "# Deleting Data that has the 'LPG' category in column 'FuelType'\n",
    "df_1 = df_1[df_1['FuelType'] != 'LPG']\n",
    "\n",
    "# Deleting Data that has the '-' category in column 'FuelType'\n",
    "df_1 = df_1[df_1['FuelType'] != '-']\n",
    "\n",
    "# Deleting Data that has the '-' category in column 'Transmission'\n",
    "df_1 = df_1[df_1['Transmission'] != '-']\n",
    "\n",
    "# Deleting Data that has the '0 L' category in column 'CylindersinEngine'\n",
    "df_1 = df_1[df_1['CylindersinEngine'] != '0 L']\n",
    "\n",
    "# Deleting Data that has the 'POA' in column 'Price'\n",
    "df_1 = df_1[df_1['Price'] != 'POA']"
   ]
  },
  {
   "cell_type": "markdown",
   "metadata": {},
   "source": [
    "Next, after filtering the data, we will delete inappropriate spaces in each column value so that it will be easier to carry out analysis later"
   ]
  },
  {
   "cell_type": "code",
   "execution_count": 9,
   "metadata": {},
   "outputs": [
    {
     "name": "stderr",
     "output_type": "stream",
     "text": [
      "C:\\Users\\Ogi\\AppData\\Local\\Temp\\ipykernel_28912\\2269232380.py:2: FutureWarning: DataFrame.applymap has been deprecated. Use DataFrame.map instead.\n",
      "  df_1 = df_1.applymap(lambda x: x.strip() if isinstance(x, str) else x)\n"
     ]
    }
   ],
   "source": [
    "# delete inappropriate spaces in each column value\n",
    "df_1 = df_1.applymap(lambda x: x.strip() if isinstance(x, str) else x)"
   ]
  },
  {
   "cell_type": "markdown",
   "metadata": {},
   "source": [
    "Next, we will adjust the data values by deleting symbols, deleting text, and changing the data type to make it easier for us to carry out analysis later"
   ]
  },
  {
   "cell_type": "code",
   "execution_count": 10,
   "metadata": {},
   "outputs": [],
   "source": [
    "# cleaning column \"CylindersinEngine\" by deleting 'cyl', deleting '-' and changing the datatype to interger\n",
    "df_1['CylindersinEngine'] = df_1['CylindersinEngine'].str.replace(\"cyl\",\"\").str.replace(\"-\",\"\").astype(int)\n",
    "\n",
    "# cleaning column \"Doors\" by deleting 'Doors' and changing the datatype to interger\n",
    "df_1['Doors'] = df_1['Doors'].str.replace(\"Doors\",\"\").astype(int)\n",
    "\n",
    "# cleaning column \"Seats\" by deleting 'Seats' and changing the datatype to interger\n",
    "df_1['Seats'] = df_1['Seats'].str.replace(\"Seats\",\"\").astype(int)\n",
    "\n",
    "# cleaning column \"BodyType\" by deleting '/' and deleting 'Tray' \n",
    "df_1['BodyType'] = df_1['BodyType'].str.replace('/', '').str.replace('Tray', '')\n",
    "\n",
    "# Changed the name of each state from its abbreviation to the full state name\n",
    "df_1['State'] = df_1['State'].str.replace('NSW', 'New South Wales').str.replace('VIC', 'Victoria State Government').str.replace('QLD', 'Queensland').str.replace('SA', 'South Australia').str.replace('WA', 'Western Australia').str.replace('ACT', 'Australian Capital Territory').str.replace('TAS', 'Tasmania').str.replace('NT', 'Northern Territory')\n",
    "\n",
    "# changing datatype column \"Year\" to integer \n",
    "df_1['Year'] = df_1['Year'].astype(int)\n",
    "\n",
    "# changing datatype column \"Price\" to integer \n",
    "df_1['Price'] = df_1['Price'].astype(int)"
   ]
  },
  {
   "cell_type": "markdown",
   "metadata": {},
   "source": [
    "After cleaning the data, we will delete several columns from the data. The columns removed are the 'Title', 'UsedOrNew', 'Engine', 'DriveType', 'FuelConsumption', 'Kilometres', 'ColourExtInt', 'Location', and 'City' columns. These columns were deleted because they are not relevant to the topic of the analysis to be carried out, which means they will not be used in the analysis."
   ]
  },
  {
   "cell_type": "code",
   "execution_count": 11,
   "metadata": {},
   "outputs": [
    {
     "name": "stdout",
     "output_type": "stream",
     "text": [
      "<class 'pandas.core.frame.DataFrame'>\n",
      "Index: 11365 entries, 0 to 16733\n",
      "Data columns (total 12 columns):\n",
      " #   Column             Non-Null Count  Dtype \n",
      "---  ------             --------------  ----- \n",
      " 0   Brand              11365 non-null  object\n",
      " 1   Year               11365 non-null  int32 \n",
      " 2   Model              11365 non-null  object\n",
      " 3   Car/Suv            11365 non-null  object\n",
      " 4   Transmission       11365 non-null  object\n",
      " 5   FuelType           11365 non-null  object\n",
      " 6   CylindersinEngine  11365 non-null  int32 \n",
      " 7   BodyType           11365 non-null  object\n",
      " 8   Doors              11365 non-null  int32 \n",
      " 9   Seats              11365 non-null  int32 \n",
      " 10  Price              11365 non-null  int32 \n",
      " 11  State              11365 non-null  object\n",
      "dtypes: int32(5), object(7)\n",
      "memory usage: 932.3+ KB\n"
     ]
    }
   ],
   "source": [
    "# Deleting column 'Title', 'UsedOrNew', 'Engine', 'DriveType', 'FuelConsumption', 'Kilometres', 'ColourExtInt', 'Location', and 'City'\n",
    "df_1 = df_1.drop(columns=['Title', 'UsedOrNew', 'Engine', 'DriveType', 'FuelConsumption', 'Kilometres', 'ColourExtInt', 'Location', 'City' ], axis=1)\n",
    "df_1.info()"
   ]
  },
  {
   "cell_type": "code",
   "execution_count": 12,
   "metadata": {},
   "outputs": [
    {
     "name": "stdout",
     "output_type": "stream",
     "text": [
      "<class 'pandas.core.frame.DataFrame'>\n",
      "Index: 11365 entries, 0 to 16733\n",
      "Data columns (total 12 columns):\n",
      " #   Column             Non-Null Count  Dtype \n",
      "---  ------             --------------  ----- \n",
      " 0   Brand              11365 non-null  object\n",
      " 1   Year               11365 non-null  int32 \n",
      " 2   Model              11365 non-null  object\n",
      " 3   Car/Suv            11365 non-null  object\n",
      " 4   Transmission       11365 non-null  object\n",
      " 5   FuelType           11365 non-null  object\n",
      " 6   CylindersinEngine  11365 non-null  int32 \n",
      " 7   BodyType           11365 non-null  object\n",
      " 8   Doors              11365 non-null  int32 \n",
      " 9   Seats              11365 non-null  int32 \n",
      " 10  Price              11365 non-null  int32 \n",
      " 11  State              11365 non-null  object\n",
      "dtypes: int32(5), object(7)\n",
      "memory usage: 932.3+ KB\n"
     ]
    }
   ],
   "source": [
    "df_1.info()"
   ]
  },
  {
   "cell_type": "markdown",
   "metadata": {},
   "source": [
    "It can be seen from the data above that the data is appropriate and each column has the appropriate data type. Next, we will save the clean data in a .csv format file"
   ]
  },
  {
   "cell_type": "code",
   "execution_count": 13,
   "metadata": {},
   "outputs": [],
   "source": [
    "#export the cleaned data into AVP_clean.csv\n",
    "df_1 = df_1.to_csv('AVP_clean.csv', index=False)"
   ]
  },
  {
   "cell_type": "markdown",
   "metadata": {},
   "source": [
    "# Analysis"
   ]
  },
  {
   "cell_type": "code",
   "execution_count": 14,
   "metadata": {},
   "outputs": [
    {
     "data": {
      "text/html": [
       "<div>\n",
       "<style scoped>\n",
       "    .dataframe tbody tr th:only-of-type {\n",
       "        vertical-align: middle;\n",
       "    }\n",
       "\n",
       "    .dataframe tbody tr th {\n",
       "        vertical-align: top;\n",
       "    }\n",
       "\n",
       "    .dataframe thead th {\n",
       "        text-align: right;\n",
       "    }\n",
       "</style>\n",
       "<table border=\"1\" class=\"dataframe\">\n",
       "  <thead>\n",
       "    <tr style=\"text-align: right;\">\n",
       "      <th></th>\n",
       "      <th>Brand</th>\n",
       "      <th>Year</th>\n",
       "      <th>Model</th>\n",
       "      <th>Car/Suv</th>\n",
       "      <th>Transmission</th>\n",
       "      <th>FuelType</th>\n",
       "      <th>CylindersinEngine</th>\n",
       "      <th>BodyType</th>\n",
       "      <th>Doors</th>\n",
       "      <th>Seats</th>\n",
       "      <th>Price</th>\n",
       "      <th>State</th>\n",
       "    </tr>\n",
       "  </thead>\n",
       "  <tbody>\n",
       "    <tr>\n",
       "      <th>0</th>\n",
       "      <td>Ssangyong</td>\n",
       "      <td>2022</td>\n",
       "      <td>Rexton</td>\n",
       "      <td>Sutherland Isuzu Ute</td>\n",
       "      <td>Automatic</td>\n",
       "      <td>Diesel</td>\n",
       "      <td>4</td>\n",
       "      <td>SUV</td>\n",
       "      <td>4</td>\n",
       "      <td>7</td>\n",
       "      <td>51990</td>\n",
       "      <td>New South Wales</td>\n",
       "    </tr>\n",
       "    <tr>\n",
       "      <th>1</th>\n",
       "      <td>MG</td>\n",
       "      <td>2022</td>\n",
       "      <td>MG3</td>\n",
       "      <td>Hatchback</td>\n",
       "      <td>Automatic</td>\n",
       "      <td>Premium</td>\n",
       "      <td>4</td>\n",
       "      <td>Hatchback</td>\n",
       "      <td>5</td>\n",
       "      <td>5</td>\n",
       "      <td>19990</td>\n",
       "      <td>New South Wales</td>\n",
       "    </tr>\n",
       "    <tr>\n",
       "      <th>2</th>\n",
       "      <td>BMW</td>\n",
       "      <td>2022</td>\n",
       "      <td>430I</td>\n",
       "      <td>Coupe</td>\n",
       "      <td>Automatic</td>\n",
       "      <td>Premium</td>\n",
       "      <td>4</td>\n",
       "      <td>Coupe</td>\n",
       "      <td>2</td>\n",
       "      <td>4</td>\n",
       "      <td>108988</td>\n",
       "      <td>New South Wales</td>\n",
       "    </tr>\n",
       "    <tr>\n",
       "      <th>3</th>\n",
       "      <td>Renault</td>\n",
       "      <td>2022</td>\n",
       "      <td>Arkana</td>\n",
       "      <td>SUV</td>\n",
       "      <td>Automatic</td>\n",
       "      <td>Unleaded</td>\n",
       "      <td>4</td>\n",
       "      <td>SUV</td>\n",
       "      <td>4</td>\n",
       "      <td>5</td>\n",
       "      <td>34990</td>\n",
       "      <td>New South Wales</td>\n",
       "    </tr>\n",
       "    <tr>\n",
       "      <th>4</th>\n",
       "      <td>Land</td>\n",
       "      <td>2017</td>\n",
       "      <td>Rover</td>\n",
       "      <td>SUV</td>\n",
       "      <td>Automatic</td>\n",
       "      <td>Diesel</td>\n",
       "      <td>4</td>\n",
       "      <td>SUV</td>\n",
       "      <td>2</td>\n",
       "      <td>4</td>\n",
       "      <td>62280</td>\n",
       "      <td>New South Wales</td>\n",
       "    </tr>\n",
       "    <tr>\n",
       "      <th>...</th>\n",
       "      <td>...</td>\n",
       "      <td>...</td>\n",
       "      <td>...</td>\n",
       "      <td>...</td>\n",
       "      <td>...</td>\n",
       "      <td>...</td>\n",
       "      <td>...</td>\n",
       "      <td>...</td>\n",
       "      <td>...</td>\n",
       "      <td>...</td>\n",
       "      <td>...</td>\n",
       "      <td>...</td>\n",
       "    </tr>\n",
       "    <tr>\n",
       "      <th>11360</th>\n",
       "      <td>Hyundai</td>\n",
       "      <td>2015</td>\n",
       "      <td>I30</td>\n",
       "      <td>Wagon</td>\n",
       "      <td>Automatic</td>\n",
       "      <td>Unleaded</td>\n",
       "      <td>4</td>\n",
       "      <td>Wagon</td>\n",
       "      <td>4</td>\n",
       "      <td>5</td>\n",
       "      <td>21450</td>\n",
       "      <td>Victoria State Government</td>\n",
       "    </tr>\n",
       "    <tr>\n",
       "      <th>11361</th>\n",
       "      <td>Nissan</td>\n",
       "      <td>2021</td>\n",
       "      <td>Qashqai</td>\n",
       "      <td>SUV</td>\n",
       "      <td>Automatic</td>\n",
       "      <td>Unleaded</td>\n",
       "      <td>4</td>\n",
       "      <td>SUV</td>\n",
       "      <td>4</td>\n",
       "      <td>5</td>\n",
       "      <td>36770</td>\n",
       "      <td>Queensland</td>\n",
       "    </tr>\n",
       "    <tr>\n",
       "      <th>11362</th>\n",
       "      <td>Suzuki</td>\n",
       "      <td>2022</td>\n",
       "      <td>Vitara</td>\n",
       "      <td>Bremer Suzuki - New</td>\n",
       "      <td>Automatic</td>\n",
       "      <td>Unleaded</td>\n",
       "      <td>4</td>\n",
       "      <td>SUV</td>\n",
       "      <td>4</td>\n",
       "      <td>5</td>\n",
       "      <td>35280</td>\n",
       "      <td>Queensland</td>\n",
       "    </tr>\n",
       "    <tr>\n",
       "      <th>11363</th>\n",
       "      <td>Mercedes-Benz</td>\n",
       "      <td>2016</td>\n",
       "      <td>GLC250</td>\n",
       "      <td>SUV</td>\n",
       "      <td>Automatic</td>\n",
       "      <td>Premium</td>\n",
       "      <td>4</td>\n",
       "      <td>SUV</td>\n",
       "      <td>4</td>\n",
       "      <td>5</td>\n",
       "      <td>41888</td>\n",
       "      <td>Queensland</td>\n",
       "    </tr>\n",
       "    <tr>\n",
       "      <th>11364</th>\n",
       "      <td>Mercedes-Benz</td>\n",
       "      <td>2021</td>\n",
       "      <td>C200</td>\n",
       "      <td>Sedan</td>\n",
       "      <td>Automatic</td>\n",
       "      <td>Unleaded</td>\n",
       "      <td>4</td>\n",
       "      <td>Sedan</td>\n",
       "      <td>4</td>\n",
       "      <td>5</td>\n",
       "      <td>65888</td>\n",
       "      <td>Queensland</td>\n",
       "    </tr>\n",
       "  </tbody>\n",
       "</table>\n",
       "<p>11365 rows × 12 columns</p>\n",
       "</div>"
      ],
      "text/plain": [
       "               Brand  Year    Model               Car/Suv Transmission  \\\n",
       "0          Ssangyong  2022   Rexton  Sutherland Isuzu Ute    Automatic   \n",
       "1                 MG  2022      MG3             Hatchback    Automatic   \n",
       "2                BMW  2022     430I                 Coupe    Automatic   \n",
       "3            Renault  2022   Arkana                   SUV    Automatic   \n",
       "4               Land  2017    Rover                   SUV    Automatic   \n",
       "...              ...   ...      ...                   ...          ...   \n",
       "11360        Hyundai  2015      I30                 Wagon    Automatic   \n",
       "11361         Nissan  2021  Qashqai                   SUV    Automatic   \n",
       "11362         Suzuki  2022   Vitara   Bremer Suzuki - New    Automatic   \n",
       "11363  Mercedes-Benz  2016   GLC250                   SUV    Automatic   \n",
       "11364  Mercedes-Benz  2021     C200                 Sedan    Automatic   \n",
       "\n",
       "       FuelType  CylindersinEngine   BodyType  Doors  Seats   Price  \\\n",
       "0        Diesel                  4        SUV      4      7   51990   \n",
       "1       Premium                  4  Hatchback      5      5   19990   \n",
       "2       Premium                  4      Coupe      2      4  108988   \n",
       "3      Unleaded                  4        SUV      4      5   34990   \n",
       "4        Diesel                  4        SUV      2      4   62280   \n",
       "...         ...                ...        ...    ...    ...     ...   \n",
       "11360  Unleaded                  4      Wagon      4      5   21450   \n",
       "11361  Unleaded                  4        SUV      4      5   36770   \n",
       "11362  Unleaded                  4        SUV      4      5   35280   \n",
       "11363   Premium                  4        SUV      4      5   41888   \n",
       "11364  Unleaded                  4      Sedan      4      5   65888   \n",
       "\n",
       "                           State  \n",
       "0                New South Wales  \n",
       "1                New South Wales  \n",
       "2                New South Wales  \n",
       "3                New South Wales  \n",
       "4                New South Wales  \n",
       "...                          ...  \n",
       "11360  Victoria State Government  \n",
       "11361                 Queensland  \n",
       "11362                 Queensland  \n",
       "11363                 Queensland  \n",
       "11364                 Queensland  \n",
       "\n",
       "[11365 rows x 12 columns]"
      ]
     },
     "execution_count": 14,
     "metadata": {},
     "output_type": "execute_result"
    }
   ],
   "source": [
    "df_2 = pd.read_csv('AVP_clean.csv')\n",
    "df_2"
   ]
  },
  {
   "cell_type": "markdown",
   "metadata": {},
   "source": [
    "Next, we will carry out data analysis assisted by a description of the problem or questions that we have described using the 5W+1H framework. This analysis will be carried out using visualization and statistics.\n",
    "1. <b> VISUALIZATION </b>\n",
    "\n",
    "- What is the average car price in Australia based on city?\n",
    "\n",
    "- What are the 10 most sold car brands in Australian cities?\n",
    "\n",
    "- How does the average price of cars vary with the brand car?\n",
    "\n",
    "- How do car prices differ based on the engine cylinder car?\n",
    "\n",
    "- Is there an increase in car sales from 2013 to 2023?\n",
    "2. <b> DESCRIPTIVE STATISTICS </b>\n",
    "\n",
    "- How is the data on car sales prices from 2013 to 2023 centralized in Australia?\n",
    "\n",
    "- How do specific features affect the pricing of the cars?\n",
    "\n",
    "3. <b> INFERENTIAL STATISTICS </b>\n",
    "\n",
    "- Is there a significant price difference between existing car brands?"
   ]
  },
  {
   "cell_type": "markdown",
   "metadata": {},
   "source": [
    "## Visualization"
   ]
  },
  {
   "cell_type": "markdown",
   "metadata": {},
   "source": [
    "### 1. What is average car price in Australia based on state?"
   ]
  },
  {
   "cell_type": "code",
   "execution_count": 15,
   "metadata": {},
   "outputs": [
    {
     "data": {
      "text/html": [
       "<div>\n",
       "<style scoped>\n",
       "    .dataframe tbody tr th:only-of-type {\n",
       "        vertical-align: middle;\n",
       "    }\n",
       "\n",
       "    .dataframe tbody tr th {\n",
       "        vertical-align: top;\n",
       "    }\n",
       "\n",
       "    .dataframe thead th {\n",
       "        text-align: right;\n",
       "    }\n",
       "</style>\n",
       "<table border=\"1\" class=\"dataframe\">\n",
       "  <thead>\n",
       "    <tr style=\"text-align: right;\">\n",
       "      <th></th>\n",
       "      <th>State</th>\n",
       "      <th>Average Price</th>\n",
       "    </tr>\n",
       "  </thead>\n",
       "  <tbody>\n",
       "    <tr>\n",
       "      <th>7</th>\n",
       "      <td>Western Australia</td>\n",
       "      <td>40417.148067</td>\n",
       "    </tr>\n",
       "    <tr>\n",
       "      <th>2</th>\n",
       "      <td>Northern Territory</td>\n",
       "      <td>40283.280702</td>\n",
       "    </tr>\n",
       "    <tr>\n",
       "      <th>1</th>\n",
       "      <td>New South Wales</td>\n",
       "      <td>39908.487689</td>\n",
       "    </tr>\n",
       "    <tr>\n",
       "      <th>6</th>\n",
       "      <td>Victoria State Government</td>\n",
       "      <td>39843.756126</td>\n",
       "    </tr>\n",
       "    <tr>\n",
       "      <th>5</th>\n",
       "      <td>Tasmania</td>\n",
       "      <td>38551.587912</td>\n",
       "    </tr>\n",
       "    <tr>\n",
       "      <th>4</th>\n",
       "      <td>South Australia</td>\n",
       "      <td>36744.235702</td>\n",
       "    </tr>\n",
       "    <tr>\n",
       "      <th>3</th>\n",
       "      <td>Queensland</td>\n",
       "      <td>36588.752314</td>\n",
       "    </tr>\n",
       "    <tr>\n",
       "      <th>0</th>\n",
       "      <td>Australian Capital Territory</td>\n",
       "      <td>34337.129139</td>\n",
       "    </tr>\n",
       "  </tbody>\n",
       "</table>\n",
       "</div>"
      ],
      "text/plain": [
       "                          State  Average Price\n",
       "7             Western Australia   40417.148067\n",
       "2            Northern Territory   40283.280702\n",
       "1               New South Wales   39908.487689\n",
       "6     Victoria State Government   39843.756126\n",
       "5                      Tasmania   38551.587912\n",
       "4               South Australia   36744.235702\n",
       "3                    Queensland   36588.752314\n",
       "0  Australian Capital Territory   34337.129139"
      ]
     },
     "execution_count": 15,
     "metadata": {},
     "output_type": "execute_result"
    }
   ],
   "source": [
    "# Calculate the total sales price of cars in each state\n",
    "price_per_state = df_2.groupby('State')['Price'].agg(['mean']).reset_index()\n",
    "price_per_state.columns = ['State', 'Average Price']\n",
    "price_per_state.sort_values(by='Average Price', ascending=False, inplace = True)\n",
    "price_per_state"
   ]
  },
  {
   "cell_type": "code",
   "execution_count": 18,
   "metadata": {},
   "outputs": [
    {
     "name": "stderr",
     "output_type": "stream",
     "text": [
      "c:\\Users\\Ogi\\anaconda3\\Lib\\site-packages\\geopandas\\plotting.py:715: FutureWarning: is_categorical_dtype is deprecated and will be removed in a future version. Use isinstance(dtype, CategoricalDtype) instead\n",
      "  if pd.api.types.is_categorical_dtype(values.dtype):\n",
      "c:\\Users\\Ogi\\anaconda3\\Lib\\site-packages\\geopandas\\plotting.py:48: ShapelyDeprecationWarning: The 'type' attribute is deprecated, and will be removed in the future. You can use the 'geom_type' attribute instead.\n",
      "  if geom is not None and geom.type.startswith(prefix) and not geom.is_empty:\n",
      "C:\\Users\\Ogi\\AppData\\Local\\Temp\\ipykernel_28912\\4103682335.py:44: UserWarning: Geometry is in a geographic CRS. Results from 'centroid' are likely incorrect. Use 'GeoSeries.to_crs()' to re-project geometries to a projected CRS before this operation.\n",
      "\n",
      "  for x, y, label in zip(gdf.geometry.centroid.x, gdf.geometry.centroid.y, gdf[\"STATE_NAME\"]):\n"
     ]
    },
    {
     "data": {
      "image/png": "[encoded data removed]",
      "text/plain": [
       "<Figure size 1200x1200 with 2 Axes>"
      ]
     },
     "metadata": {},
     "output_type": "display_data"
    }
   ],
   "source": [
    "from matplotlib.colors import ListedColormap\n",
    "from mpl_toolkits.axes_grid1 import make_axes_locatable\n",
    "import geopandas as gpd\n",
    "\n",
    "# Define the data\n",
    "data = {\n",
    "    \"State\": [\"Western Australia\", \"Northern Territory\", \"New South Wales\", \"Victoria State Government\",\n",
    "              \"Tasmania\", \"South Australia\", \"Queensland\", \"Australian Capital Territory\"],\n",
    "    \"Average_Price\": [40417.148067, 40283.280702, 39908.487689, 39843.756126, 38551.587912, 36744.235702, 36588.752314, 34337.129139]\n",
    "}\n",
    "\n",
    "# Create a GeoDataFrame with the state geometries\n",
    "gdf = gpd.read_file(\"D:\\Ogi\\Kursus\\Hacktive8_\\Phase_0\\Milestone\\p0-ftds012-hck-m1-ogi092\\states.geojson\")  # Replace with the actual file path\n",
    "\n",
    "# Merge the GeoDataFrame with the data\n",
    "gdf = gdf.merge(pd.DataFrame(data), left_on=\"STATE_NAME\", right_on=\"State\")\n",
    "\n",
    "# Set a Mako color palette using Seaborn\n",
    "mako_palette = sns.color_palette(\"mako\", n_colors=len(gdf))[::-1]\n",
    "\n",
    "# Create a ListedColormap from the Mako palette\n",
    "mako_cmap = ListedColormap(mako_palette)\n",
    "\n",
    "# Define the desired color range based on your data\n",
    "vmin = gdf[\"Average_Price\"].min()\n",
    "vmax = gdf[\"Average_Price\"].max() + 5000  # Adjust the upper limit for a more significant range\n",
    "\n",
    "# Plot the map with the specified color range\n",
    "fig, ax = plt.subplots(1, 1, figsize=(12, 12))\n",
    "divider = make_axes_locatable(ax)\n",
    "cax = divider.append_axes(\"right\", size=\"5%\", pad=0.1)\n",
    "\n",
    "gdf.plot(column=\"Average_Price\", cmap=mako_cmap, linewidth=0.8, ax=ax, edgecolor=\"0.8\", legend=True, cax=cax, vmin=vmin, vmax=vmax)\n",
    "\n",
    "# Set a clear title\n",
    "ax.set_title(\"Average Prices by State in Australia\", fontsize=18, pad=20)\n",
    "\n",
    "# Customize legend\n",
    "legend_labels = [\"${:,.2f}\".format(price) for price in gdf[\"Average_Price\"]]\n",
    "legend_labels.insert(0, \"Average Price\")\n",
    "ax.legend(legend_labels, title=\"Legend\", loc=\"lower right\", fontsize=12)\n",
    "\n",
    "# Display state names as annotations without background\n",
    "for x, y, label in zip(gdf.geometry.centroid.x, gdf.geometry.centroid.y, gdf[\"STATE_NAME\"]):\n",
    "    ax.text(x, y, label, fontsize=10, ha='center', va='center', color='black', bbox=dict(facecolor='none', edgecolor='none'))\n",
    "\n",
    "# Set a gradient background\n",
    "ax.set_facecolor('#f0f0f0')\n",
    "\n",
    "# Remove x and y axis ticks\n",
    "ax.set_xticks([])\n",
    "ax.set_yticks([])\n",
    "\n",
    "# Add a border around the map\n",
    "ax.set_frame_on(False)\n",
    "plt.subplots_adjust(left=0.01, right=0.9, top=0.9, bottom=0.1)  # Adjust the layout\n",
    "\n",
    "# Show the plot\n",
    "plt.show()"
   ]
  },
  {
   "cell_type": "markdown",
   "metadata": {},
   "source": [
    "1. <b> Insight </b>\n",
    "\n",
    "- The highest property prices were recorded in Western Australia with an average of 40,417.15 AUD.\n",
    "\n",
    "- Meanwhile, the Australian Capital Territory had the lowest property prices with an average of 34,337.13 AUD.\n",
    "\n",
    "- States in the western region (Western Australia) tend to have higher property prices compared to several states in the eastern region (New South Wales, Victoria State Government, Tasmania, South Australia, Queensland, Australian Capital Territory).\n",
    "\n",
    "- The difference in property prices between states is not very significant, but the Australian Capital Territory has quite significant differences in sales compared to other regions\n",
    "\n",
    "2. <b> Tips </b>\n",
    "\n",
    "- Car sales can be focused on the western region (Western Australia), it can be seen from the data that car consumers in this area are relatively high so they can increase income more than in other areas.\n"
   ]
  },
  {
   "cell_type": "markdown",
   "metadata": {},
   "source": [
    "### 2. What 10 car brands have the best sales from 2013 to 2023?"
   ]
  },
  {
   "cell_type": "code",
   "execution_count": 21,
   "metadata": {},
   "outputs": [],
   "source": [
    "# Calculating total revenue from a particular brand\n",
    "best_brand = df_2.groupby(['Brand']).agg({'Price':'sum'})\n",
    "best_brand.sort_values(by='Price', ascending=False, inplace=True)\n",
    "best_brand = best_brand.head(10)"
   ]
  },
  {
   "cell_type": "code",
   "execution_count": 23,
   "metadata": {},
   "outputs": [
    {
     "data": {
      "image/png": "[encoded data removed]",
      "text/plain": [
       "<Figure size 1000x800 with 1 Axes>"
      ]
     },
     "metadata": {},
     "output_type": "display_data"
    }
   ],
   "source": [
    "# Create a color palette for better visual distinction\n",
    "colors = sns.color_palette('viridis', len(best_brand))\n",
    "\n",
    "# Plotting the bar chart with improved visualization\n",
    "fig, ax = plt.subplots(figsize=(10, 8))\n",
    "bars = plt.barh(best_brand.index, best_brand['Price'], color=colors)\n",
    "\n",
    "# Adding annotations and customizing the plot\n",
    "for bar, value in zip(bars, best_brand['Price']):\n",
    "    plt.text(bar.get_width() + 1e6, bar.get_y() + bar.get_height()/2, f'{int(value):,}', ha='left', va='center', fontsize=10)\n",
    "\n",
    "plt.xlabel('Price in Australian Dollars')\n",
    "plt.title('Sales by Brand')\n",
    "plt.grid(axis='x', linestyle='--', alpha=0.7)\n",
    "\n",
    "# Customizing the aesthetics\n",
    "ax.spines['top'].set_visible(False)\n",
    "ax.spines['right'].set_visible(False)\n",
    "ax.tick_params(axis='y', which='major', labelsize=10)\n",
    "plt.tight_layout()\n",
    "\n",
    "# Show plot\n",
    "plt.show()"
   ]
  },
  {
   "cell_type": "markdown",
   "metadata": {},
   "source": [
    "1. <b> Insight </b>\n",
    "\n",
    "- The Toyota brand has the highest sales with 79.255.293$. This shows the popularity and attractiveness of Toyota in the car market.\n",
    "\n",
    "- Mazda and Ford ranked second and third with sales of around 28.135.758$ and 27.301.272$ respectively. Both play an important role in the automotive market.\n",
    "\n",
    "- Despite being in a higher price segment, Mercedes-Benz managed to rank sixth with sales of 25.434.458$, demonstrating the attractiveness and acceptance of the luxury brand in the market.\n",
    "\n",
    "- European brands such as Volkswagen, Mercedes-Benz and Audi continue to attract consumer interest, although in general, the prices of cars from these brands tend to be higher.\n",
    "\n",
    "2. <b> Tips </b>\n",
    "\n",
    "- Focusing sales on Toyota brand cars could have the opportunity to increase revenue. This is shown by the very high level of consumer interest in this brand, far surpassing other brands\n",
    "\n",
    "- Marketing European car brands, such as Volkswagen, Mercedes-Benz and Audi, can also have the opportunity to increase revenue. Seeing the high level of consumer interest in this brand, even though the brand is considered an expensive car brand, income can increase quite significantly if you can market the brand well.\n"
   ]
  },
  {
   "cell_type": "markdown",
   "metadata": {},
   "source": [
    "### 3. How does the average price of cars vary with the brand car?"
   ]
  },
  {
   "cell_type": "code",
   "execution_count": 24,
   "metadata": {},
   "outputs": [
    {
     "data": {
      "text/html": [
       "<div>\n",
       "<style scoped>\n",
       "    .dataframe tbody tr th:only-of-type {\n",
       "        vertical-align: middle;\n",
       "    }\n",
       "\n",
       "    .dataframe tbody tr th {\n",
       "        vertical-align: top;\n",
       "    }\n",
       "\n",
       "    .dataframe thead th {\n",
       "        text-align: right;\n",
       "    }\n",
       "</style>\n",
       "<table border=\"1\" class=\"dataframe\">\n",
       "  <thead>\n",
       "    <tr style=\"text-align: right;\">\n",
       "      <th></th>\n",
       "      <th>Brand</th>\n",
       "      <th>Average Price</th>\n",
       "    </tr>\n",
       "  </thead>\n",
       "  <tbody>\n",
       "    <tr>\n",
       "      <th>11</th>\n",
       "      <td>Ferrari</td>\n",
       "      <td>464939.000000</td>\n",
       "    </tr>\n",
       "    <tr>\n",
       "      <th>30</th>\n",
       "      <td>Lamborghini</td>\n",
       "      <td>435000.000000</td>\n",
       "    </tr>\n",
       "    <tr>\n",
       "      <th>37</th>\n",
       "      <td>McLaren</td>\n",
       "      <td>402137.000000</td>\n",
       "    </tr>\n",
       "    <tr>\n",
       "      <th>2</th>\n",
       "      <td>Aston</td>\n",
       "      <td>369000.000000</td>\n",
       "    </tr>\n",
       "    <tr>\n",
       "      <th>5</th>\n",
       "      <td>Bentley</td>\n",
       "      <td>199900.000000</td>\n",
       "    </tr>\n",
       "    <tr>\n",
       "      <th>6</th>\n",
       "      <td>Chevrolet</td>\n",
       "      <td>150965.111111</td>\n",
       "    </tr>\n",
       "    <tr>\n",
       "      <th>35</th>\n",
       "      <td>Maserati</td>\n",
       "      <td>110479.777778</td>\n",
       "    </tr>\n",
       "    <tr>\n",
       "      <th>44</th>\n",
       "      <td>Porsche</td>\n",
       "      <td>110170.188679</td>\n",
       "    </tr>\n",
       "    <tr>\n",
       "      <th>18</th>\n",
       "      <td>HSV</td>\n",
       "      <td>104474.619048</td>\n",
       "    </tr>\n",
       "    <tr>\n",
       "      <th>45</th>\n",
       "      <td>Ram</td>\n",
       "      <td>101967.650000</td>\n",
       "    </tr>\n",
       "    <tr>\n",
       "      <th>16</th>\n",
       "      <td>Genesis</td>\n",
       "      <td>91153.500000</td>\n",
       "    </tr>\n",
       "    <tr>\n",
       "      <th>31</th>\n",
       "      <td>Land</td>\n",
       "      <td>74787.662921</td>\n",
       "    </tr>\n",
       "    <tr>\n",
       "      <th>9</th>\n",
       "      <td>Cupra</td>\n",
       "      <td>65244.285714</td>\n",
       "    </tr>\n",
       "    <tr>\n",
       "      <th>38</th>\n",
       "      <td>Mercedes-Benz</td>\n",
       "      <td>62035.263415</td>\n",
       "    </tr>\n",
       "    <tr>\n",
       "      <th>32</th>\n",
       "      <td>Lexus</td>\n",
       "      <td>61388.459016</td>\n",
       "    </tr>\n",
       "    <tr>\n",
       "      <th>7</th>\n",
       "      <td>Chrysler</td>\n",
       "      <td>58819.111111</td>\n",
       "    </tr>\n",
       "    <tr>\n",
       "      <th>26</th>\n",
       "      <td>Jaguar</td>\n",
       "      <td>58684.875000</td>\n",
       "    </tr>\n",
       "    <tr>\n",
       "      <th>4</th>\n",
       "      <td>BMW</td>\n",
       "      <td>56631.854785</td>\n",
       "    </tr>\n",
       "    <tr>\n",
       "      <th>3</th>\n",
       "      <td>Audi</td>\n",
       "      <td>53576.272222</td>\n",
       "    </tr>\n",
       "    <tr>\n",
       "      <th>54</th>\n",
       "      <td>Volvo</td>\n",
       "      <td>49434.222222</td>\n",
       "    </tr>\n",
       "    <tr>\n",
       "      <th>52</th>\n",
       "      <td>Toyota</td>\n",
       "      <td>45366.510017</td>\n",
       "    </tr>\n",
       "    <tr>\n",
       "      <th>27</th>\n",
       "      <td>Jeep</td>\n",
       "      <td>44237.140351</td>\n",
       "    </tr>\n",
       "    <tr>\n",
       "      <th>24</th>\n",
       "      <td>Isuzu</td>\n",
       "      <td>41220.088235</td>\n",
       "    </tr>\n",
       "    <tr>\n",
       "      <th>48</th>\n",
       "      <td>Ssangyong</td>\n",
       "      <td>40786.478261</td>\n",
       "    </tr>\n",
       "    <tr>\n",
       "      <th>47</th>\n",
       "      <td>Skoda</td>\n",
       "      <td>39922.444444</td>\n",
       "    </tr>\n",
       "    <tr>\n",
       "      <th>53</th>\n",
       "      <td>Volkswagen</td>\n",
       "      <td>39204.106038</td>\n",
       "    </tr>\n",
       "    <tr>\n",
       "      <th>15</th>\n",
       "      <td>GWM</td>\n",
       "      <td>38978.485714</td>\n",
       "    </tr>\n",
       "    <tr>\n",
       "      <th>13</th>\n",
       "      <td>Ford</td>\n",
       "      <td>38506.730606</td>\n",
       "    </tr>\n",
       "    <tr>\n",
       "      <th>34</th>\n",
       "      <td>Mahindra</td>\n",
       "      <td>37512.000000</td>\n",
       "    </tr>\n",
       "    <tr>\n",
       "      <th>0</th>\n",
       "      <td>Abarth</td>\n",
       "      <td>37490.000000</td>\n",
       "    </tr>\n",
       "    <tr>\n",
       "      <th>39</th>\n",
       "      <td>Mini</td>\n",
       "      <td>36066.878049</td>\n",
       "    </tr>\n",
       "    <tr>\n",
       "      <th>36</th>\n",
       "      <td>Mazda</td>\n",
       "      <td>33817.016827</td>\n",
       "    </tr>\n",
       "    <tr>\n",
       "      <th>29</th>\n",
       "      <td>LDV</td>\n",
       "      <td>32038.835165</td>\n",
       "    </tr>\n",
       "    <tr>\n",
       "      <th>41</th>\n",
       "      <td>Nissan</td>\n",
       "      <td>31776.361630</td>\n",
       "    </tr>\n",
       "    <tr>\n",
       "      <th>40</th>\n",
       "      <td>Mitsubishi</td>\n",
       "      <td>31663.177891</td>\n",
       "    </tr>\n",
       "    <tr>\n",
       "      <th>46</th>\n",
       "      <td>Renault</td>\n",
       "      <td>31146.192857</td>\n",
       "    </tr>\n",
       "    <tr>\n",
       "      <th>49</th>\n",
       "      <td>Subaru</td>\n",
       "      <td>30759.336709</td>\n",
       "    </tr>\n",
       "    <tr>\n",
       "      <th>1</th>\n",
       "      <td>Alfa</td>\n",
       "      <td>30317.900000</td>\n",
       "    </tr>\n",
       "    <tr>\n",
       "      <th>21</th>\n",
       "      <td>Honda</td>\n",
       "      <td>30224.941441</td>\n",
       "    </tr>\n",
       "    <tr>\n",
       "      <th>28</th>\n",
       "      <td>Kia</td>\n",
       "      <td>29889.974963</td>\n",
       "    </tr>\n",
       "    <tr>\n",
       "      <th>19</th>\n",
       "      <td>Haval</td>\n",
       "      <td>29879.333333</td>\n",
       "    </tr>\n",
       "    <tr>\n",
       "      <th>23</th>\n",
       "      <td>Infiniti</td>\n",
       "      <td>28990.000000</td>\n",
       "    </tr>\n",
       "    <tr>\n",
       "      <th>22</th>\n",
       "      <td>Hyundai</td>\n",
       "      <td>27943.996917</td>\n",
       "    </tr>\n",
       "    <tr>\n",
       "      <th>33</th>\n",
       "      <td>MG</td>\n",
       "      <td>27775.111702</td>\n",
       "    </tr>\n",
       "    <tr>\n",
       "      <th>25</th>\n",
       "      <td>Iveco</td>\n",
       "      <td>26950.000000</td>\n",
       "    </tr>\n",
       "    <tr>\n",
       "      <th>50</th>\n",
       "      <td>Suzuki</td>\n",
       "      <td>26322.412322</td>\n",
       "    </tr>\n",
       "    <tr>\n",
       "      <th>20</th>\n",
       "      <td>Holden</td>\n",
       "      <td>25339.983077</td>\n",
       "    </tr>\n",
       "    <tr>\n",
       "      <th>43</th>\n",
       "      <td>Peugeot</td>\n",
       "      <td>23839.285714</td>\n",
       "    </tr>\n",
       "    <tr>\n",
       "      <th>14</th>\n",
       "      <td>Foton</td>\n",
       "      <td>20494.500000</td>\n",
       "    </tr>\n",
       "    <tr>\n",
       "      <th>8</th>\n",
       "      <td>Citroen</td>\n",
       "      <td>18509.000000</td>\n",
       "    </tr>\n",
       "    <tr>\n",
       "      <th>51</th>\n",
       "      <td>Tata</td>\n",
       "      <td>16990.000000</td>\n",
       "    </tr>\n",
       "    <tr>\n",
       "      <th>10</th>\n",
       "      <td>Dodge</td>\n",
       "      <td>15467.500000</td>\n",
       "    </tr>\n",
       "    <tr>\n",
       "      <th>12</th>\n",
       "      <td>Fiat</td>\n",
       "      <td>14505.653846</td>\n",
       "    </tr>\n",
       "    <tr>\n",
       "      <th>17</th>\n",
       "      <td>Great</td>\n",
       "      <td>14348.800000</td>\n",
       "    </tr>\n",
       "    <tr>\n",
       "      <th>42</th>\n",
       "      <td>Opel</td>\n",
       "      <td>10349.500000</td>\n",
       "    </tr>\n",
       "  </tbody>\n",
       "</table>\n",
       "</div>"
      ],
      "text/plain": [
       "            Brand  Average Price\n",
       "11        Ferrari  464939.000000\n",
       "30    Lamborghini  435000.000000\n",
       "37        McLaren  402137.000000\n",
       "2           Aston  369000.000000\n",
       "5         Bentley  199900.000000\n",
       "6       Chevrolet  150965.111111\n",
       "35       Maserati  110479.777778\n",
       "44        Porsche  110170.188679\n",
       "18            HSV  104474.619048\n",
       "45            Ram  101967.650000\n",
       "16        Genesis   91153.500000\n",
       "31           Land   74787.662921\n",
       "9           Cupra   65244.285714\n",
       "38  Mercedes-Benz   62035.263415\n",
       "32          Lexus   61388.459016\n",
       "7        Chrysler   58819.111111\n",
       "26         Jaguar   58684.875000\n",
       "4             BMW   56631.854785\n",
       "3            Audi   53576.272222\n",
       "54          Volvo   49434.222222\n",
       "52         Toyota   45366.510017\n",
       "27           Jeep   44237.140351\n",
       "24          Isuzu   41220.088235\n",
       "48      Ssangyong   40786.478261\n",
       "47          Skoda   39922.444444\n",
       "53     Volkswagen   39204.106038\n",
       "15            GWM   38978.485714\n",
       "13           Ford   38506.730606\n",
       "34       Mahindra   37512.000000\n",
       "0          Abarth   37490.000000\n",
       "39           Mini   36066.878049\n",
       "36          Mazda   33817.016827\n",
       "29            LDV   32038.835165\n",
       "41         Nissan   31776.361630\n",
       "40     Mitsubishi   31663.177891\n",
       "46        Renault   31146.192857\n",
       "49         Subaru   30759.336709\n",
       "1            Alfa   30317.900000\n",
       "21          Honda   30224.941441\n",
       "28            Kia   29889.974963\n",
       "19          Haval   29879.333333\n",
       "23       Infiniti   28990.000000\n",
       "22        Hyundai   27943.996917\n",
       "33             MG   27775.111702\n",
       "25          Iveco   26950.000000\n",
       "50         Suzuki   26322.412322\n",
       "20         Holden   25339.983077\n",
       "43        Peugeot   23839.285714\n",
       "14          Foton   20494.500000\n",
       "8         Citroen   18509.000000\n",
       "51           Tata   16990.000000\n",
       "10          Dodge   15467.500000\n",
       "12           Fiat   14505.653846\n",
       "17          Great   14348.800000\n",
       "42           Opel   10349.500000"
      ]
     },
     "execution_count": 24,
     "metadata": {},
     "output_type": "execute_result"
    }
   ],
   "source": [
    "# Calculating average price of cars vary with the brand car\n",
    "average_price_by_brand = df_2.groupby('Brand')['Price'].mean().reset_index()\n",
    "average_price_by_brand.columns = ['Brand', 'Average Price']\n",
    "average_price_by_brand = average_price_by_brand.sort_values(by='Average Price', ascending=False)\n",
    "average_price_by_brand"
   ]
  },
  {
   "cell_type": "code",
   "execution_count": 25,
   "metadata": {},
   "outputs": [
    {
     "data": {
      "application/vnd.plotly.v1+json": {
       "config": {
        "plotlyServerURL": "https://plot.ly"
       },
       "data": [
        {
         "domain": {
          "x": [
           0,
           1
          ],
          "y": [
           0,
           1
          ]
         },
         "hovertemplate": "Brand=%{label}<br>Average Price=%{value}<extra></extra>",
         "labels": [
          "Ferrari",
          "Lamborghini",
          "McLaren",
          "Aston",
          "Other"
         ],
         "legendgroup": "",
         "name": "",
         "pull": [
          0.1,
          0,
          0,
          0,
          0.1
         ],
         "showlegend": true,
         "textinfo": "percent+label",
         "type": "pie",
         "values": [
          464939,
          435000,
          402137,
          369000,
          2458342.529134793
         ]
        }
       ],
       "layout": {
        "legend": {
         "tracegroupgap": 0
        },
        "piecolorway": [
         "#440154",
         "#482878",
         "#3e4989",
         "#31688e",
         "#26828e",
         "#1f9e89",
         "#35b779",
         "#6ece58",
         "#b5de2b",
         "#fde725"
        ],
        "template": {
         "data": {
          "bar": [
           {
            "error_x": {
             "color": "#2a3f5f"
            },
            "error_y": {
             "color": "#2a3f5f"
            },
            "marker": {
             "line": {
              "color": "#E5ECF6",
              "width": 0.5
             },
             "pattern": {
              "fillmode": "overlay",
              "size": 10,
              "solidity": 0.2
             }
            },
            "type": "bar"
           }
          ],
          "barpolar": [
           {
            "marker": {
             "line": {
              "color": "#E5ECF6",
              "width": 0.5
             },
             "pattern": {
              "fillmode": "overlay",
              "size": 10,
              "solidity": 0.2
             }
            },
            "type": "barpolar"
           }
          ],
          "carpet": [
           {
            "aaxis": {
             "endlinecolor": "#2a3f5f",
             "gridcolor": "white",
             "linecolor": "white",
             "minorgridcolor": "white",
             "startlinecolor": "#2a3f5f"
            },
            "baxis": {
             "endlinecolor": "#2a3f5f",
             "gridcolor": "white",
             "linecolor": "white",
             "minorgridcolor": "white",
             "startlinecolor": "#2a3f5f"
            },
            "type": "carpet"
           }
          ],
          "choropleth": [
           {
            "colorbar": {
             "outlinewidth": 0,
             "ticks": ""
            },
            "type": "choropleth"
           }
          ],
          "contour": [
           {
            "colorbar": {
             "outlinewidth": 0,
             "ticks": ""
            },
            "colorscale": [
             [
              0,
              "#0d0887"
             ],
             [
              0.1111111111111111,
              "#46039f"
             ],
             [
              0.2222222222222222,
              "#7201a8"
             ],
             [
              0.3333333333333333,
              "#9c179e"
             ],
             [
              0.4444444444444444,
              "#bd3786"
             ],
             [
              0.5555555555555556,
              "#d8576b"
             ],
             [
              0.6666666666666666,
              "#ed7953"
             ],
             [
              0.7777777777777778,
              "#fb9f3a"
             ],
             [
              0.8888888888888888,
              "#fdca26"
             ],
             [
              1,
              "#f0f921"
             ]
            ],
            "type": "contour"
           }
          ],
          "contourcarpet": [
           {
            "colorbar": {
             "outlinewidth": 0,
             "ticks": ""
            },
            "type": "contourcarpet"
           }
          ],
          "heatmap": [
           {
            "colorbar": {
             "outlinewidth": 0,
             "ticks": ""
            },
            "colorscale": [
             [
              0,
              "#0d0887"
             ],
             [
              0.1111111111111111,
              "#46039f"
             ],
             [
              0.2222222222222222,
              "#7201a8"
             ],
             [
              0.3333333333333333,
              "#9c179e"
             ],
             [
              0.4444444444444444,
              "#bd3786"
             ],
             [
              0.5555555555555556,
              "#d8576b"
             ],
             [
              0.6666666666666666,
              "#ed7953"
             ],
             [
              0.7777777777777778,
              "#fb9f3a"
             ],
             [
              0.8888888888888888,
              "#fdca26"
             ],
             [
              1,
              "#f0f921"
             ]
            ],
            "type": "heatmap"
           }
          ],
          "heatmapgl": [
           {
            "colorbar": {
             "outlinewidth": 0,
             "ticks": ""
            },
            "colorscale": [
             [
              0,
              "#0d0887"
             ],
             [
              0.1111111111111111,
              "#46039f"
             ],
             [
              0.2222222222222222,
              "#7201a8"
             ],
             [
              0.3333333333333333,
              "#9c179e"
             ],
             [
              0.4444444444444444,
              "#bd3786"
             ],
             [
              0.5555555555555556,
              "#d8576b"
             ],
             [
              0.6666666666666666,
              "#ed7953"
             ],
             [
              0.7777777777777778,
              "#fb9f3a"
             ],
             [
              0.8888888888888888,
              "#fdca26"
             ],
             [
              1,
              "#f0f921"
             ]
            ],
            "type": "heatmapgl"
           }
          ],
          "histogram": [
           {
            "marker": {
             "pattern": {
              "fillmode": "overlay",
              "size": 10,
              "solidity": 0.2
             }
            },
            "type": "histogram"
           }
          ],
          "histogram2d": [
           {
            "colorbar": {
             "outlinewidth": 0,
             "ticks": ""
            },
            "colorscale": [
             [
              0,
              "#0d0887"
             ],
             [
              0.1111111111111111,
              "#46039f"
             ],
             [
              0.2222222222222222,
              "#7201a8"
             ],
             [
              0.3333333333333333,
              "#9c179e"
             ],
             [
              0.4444444444444444,
              "#bd3786"
             ],
             [
              0.5555555555555556,
              "#d8576b"
             ],
             [
              0.6666666666666666,
              "#ed7953"
             ],
             [
              0.7777777777777778,
              "#fb9f3a"
             ],
             [
              0.8888888888888888,
              "#fdca26"
             ],
             [
              1,
              "#f0f921"
             ]
            ],
            "type": "histogram2d"
           }
          ],
          "histogram2dcontour": [
           {
            "colorbar": {
             "outlinewidth": 0,
             "ticks": ""
            },
            "colorscale": [
             [
              0,
              "#0d0887"
             ],
             [
              0.1111111111111111,
              "#46039f"
             ],
             [
              0.2222222222222222,
              "#7201a8"
             ],
             [
              0.3333333333333333,
              "#9c179e"
             ],
             [
              0.4444444444444444,
              "#bd3786"
             ],
             [
              0.5555555555555556,
              "#d8576b"
             ],
             [
              0.6666666666666666,
              "#ed7953"
             ],
             [
              0.7777777777777778,
              "#fb9f3a"
             ],
             [
              0.8888888888888888,
              "#fdca26"
             ],
             [
              1,
              "#f0f921"
             ]
            ],
            "type": "histogram2dcontour"
           }
          ],
          "mesh3d": [
           {
            "colorbar": {
             "outlinewidth": 0,
             "ticks": ""
            },
            "type": "mesh3d"
           }
          ],
          "parcoords": [
           {
            "line": {
             "colorbar": {
              "outlinewidth": 0,
              "ticks": ""
             }
            },
            "type": "parcoords"
           }
          ],
          "pie": [
           {
            "automargin": true,
            "type": "pie"
           }
          ],
          "scatter": [
           {
            "fillpattern": {
             "fillmode": "overlay",
             "size": 10,
             "solidity": 0.2
            },
            "type": "scatter"
           }
          ],
          "scatter3d": [
           {
            "line": {
             "colorbar": {
              "outlinewidth": 0,
              "ticks": ""
             }
            },
            "marker": {
             "colorbar": {
              "outlinewidth": 0,
              "ticks": ""
             }
            },
            "type": "scatter3d"
           }
          ],
          "scattercarpet": [
           {
            "marker": {
             "colorbar": {
              "outlinewidth": 0,
              "ticks": ""
             }
            },
            "type": "scattercarpet"
           }
          ],
          "scattergeo": [
           {
            "marker": {
             "colorbar": {
              "outlinewidth": 0,
              "ticks": ""
             }
            },
            "type": "scattergeo"
           }
          ],
          "scattergl": [
           {
            "marker": {
             "colorbar": {
              "outlinewidth": 0,
              "ticks": ""
             }
            },
            "type": "scattergl"
           }
          ],
          "scattermapbox": [
           {
            "marker": {
             "colorbar": {
              "outlinewidth": 0,
              "ticks": ""
             }
            },
            "type": "scattermapbox"
           }
          ],
          "scatterpolar": [
           {
            "marker": {
             "colorbar": {
              "outlinewidth": 0,
              "ticks": ""
             }
            },
            "type": "scatterpolar"
           }
          ],
          "scatterpolargl": [
           {
            "marker": {
             "colorbar": {
              "outlinewidth": 0,
              "ticks": ""
             }
            },
            "type": "scatterpolargl"
           }
          ],
          "scatterternary": [
           {
            "marker": {
             "colorbar": {
              "outlinewidth": 0,
              "ticks": ""
             }
            },
            "type": "scatterternary"
           }
          ],
          "surface": [
           {
            "colorbar": {
             "outlinewidth": 0,
             "ticks": ""
            },
            "colorscale": [
             [
              0,
              "#0d0887"
             ],
             [
              0.1111111111111111,
              "#46039f"
             ],
             [
              0.2222222222222222,
              "#7201a8"
             ],
             [
              0.3333333333333333,
              "#9c179e"
             ],
             [
              0.4444444444444444,
              "#bd3786"
             ],
             [
              0.5555555555555556,
              "#d8576b"
             ],
             [
              0.6666666666666666,
              "#ed7953"
             ],
             [
              0.7777777777777778,
              "#fb9f3a"
             ],
             [
              0.8888888888888888,
              "#fdca26"
             ],
             [
              1,
              "#f0f921"
             ]
            ],
            "type": "surface"
           }
          ],
          "table": [
           {
            "cells": {
             "fill": {
              "color": "#EBF0F8"
             },
             "line": {
              "color": "white"
             }
            },
            "header": {
             "fill": {
              "color": "#C8D4E3"
             },
             "line": {
              "color": "white"
             }
            },
            "type": "table"
           }
          ]
         },
         "layout": {
          "annotationdefaults": {
           "arrowcolor": "#2a3f5f",
           "arrowhead": 0,
           "arrowwidth": 1
          },
          "autotypenumbers": "strict",
          "coloraxis": {
           "colorbar": {
            "outlinewidth": 0,
            "ticks": ""
           }
          },
          "colorscale": {
           "diverging": [
            [
             0,
             "#8e0152"
            ],
            [
             0.1,
             "#c51b7d"
            ],
            [
             0.2,
             "#de77ae"
            ],
            [
             0.3,
             "#f1b6da"
            ],
            [
             0.4,
             "#fde0ef"
            ],
            [
             0.5,
             "#f7f7f7"
            ],
            [
             0.6,
             "#e6f5d0"
            ],
            [
             0.7,
             "#b8e186"
            ],
            [
             0.8,
             "#7fbc41"
            ],
            [
             0.9,
             "#4d9221"
            ],
            [
             1,
             "#276419"
            ]
           ],
           "sequential": [
            [
             0,
             "#0d0887"
            ],
            [
             0.1111111111111111,
             "#46039f"
            ],
            [
             0.2222222222222222,
             "#7201a8"
            ],
            [
             0.3333333333333333,
             "#9c179e"
            ],
            [
             0.4444444444444444,
             "#bd3786"
            ],
            [
             0.5555555555555556,
             "#d8576b"
            ],
            [
             0.6666666666666666,
             "#ed7953"
            ],
            [
             0.7777777777777778,
             "#fb9f3a"
            ],
            [
             0.8888888888888888,
             "#fdca26"
            ],
            [
             1,
             "#f0f921"
            ]
           ],
           "sequentialminus": [
            [
             0,
             "#0d0887"
            ],
            [
             0.1111111111111111,
             "#46039f"
            ],
            [
             0.2222222222222222,
             "#7201a8"
            ],
            [
             0.3333333333333333,
             "#9c179e"
            ],
            [
             0.4444444444444444,
             "#bd3786"
            ],
            [
             0.5555555555555556,
             "#d8576b"
            ],
            [
             0.6666666666666666,
             "#ed7953"
            ],
            [
             0.7777777777777778,
             "#fb9f3a"
            ],
            [
             0.8888888888888888,
             "#fdca26"
            ],
            [
             1,
             "#f0f921"
            ]
           ]
          },
          "colorway": [
           "#636efa",
           "#EF553B",
           "#00cc96",
           "#ab63fa",
           "#FFA15A",
           "#19d3f3",
           "#FF6692",
           "#B6E880",
           "#FF97FF",
           "#FECB52"
          ],
          "font": {
           "color": "#2a3f5f"
          },
          "geo": {
           "bgcolor": "white",
           "lakecolor": "white",
           "landcolor": "#E5ECF6",
           "showlakes": true,
           "showland": true,
           "subunitcolor": "white"
          },
          "hoverlabel": {
           "align": "left"
          },
          "hovermode": "closest",
          "mapbox": {
           "style": "light"
          },
          "paper_bgcolor": "white",
          "plot_bgcolor": "#E5ECF6",
          "polar": {
           "angularaxis": {
            "gridcolor": "white",
            "linecolor": "white",
            "ticks": ""
           },
           "bgcolor": "#E5ECF6",
           "radialaxis": {
            "gridcolor": "white",
            "linecolor": "white",
            "ticks": ""
           }
          },
          "scene": {
           "xaxis": {
            "backgroundcolor": "#E5ECF6",
            "gridcolor": "white",
            "gridwidth": 2,
            "linecolor": "white",
            "showbackground": true,
            "ticks": "",
            "zerolinecolor": "white"
           },
           "yaxis": {
            "backgroundcolor": "#E5ECF6",
            "gridcolor": "white",
            "gridwidth": 2,
            "linecolor": "white",
            "showbackground": true,
            "ticks": "",
            "zerolinecolor": "white"
           },
           "zaxis": {
            "backgroundcolor": "#E5ECF6",
            "gridcolor": "white",
            "gridwidth": 2,
            "linecolor": "white",
            "showbackground": true,
            "ticks": "",
            "zerolinecolor": "white"
           }
          },
          "shapedefaults": {
           "line": {
            "color": "#2a3f5f"
           }
          },
          "ternary": {
           "aaxis": {
            "gridcolor": "white",
            "linecolor": "white",
            "ticks": ""
           },
           "baxis": {
            "gridcolor": "white",
            "linecolor": "white",
            "ticks": ""
           },
           "bgcolor": "#E5ECF6",
           "caxis": {
            "gridcolor": "white",
            "linecolor": "white",
            "ticks": ""
           }
          },
          "title": {
           "x": 0.05
          },
          "xaxis": {
           "automargin": true,
           "gridcolor": "white",
           "linecolor": "white",
           "ticks": "",
           "title": {
            "standoff": 15
           },
           "zerolinecolor": "white",
           "zerolinewidth": 2
          },
          "yaxis": {
           "automargin": true,
           "gridcolor": "white",
           "linecolor": "white",
           "ticks": "",
           "title": {
            "standoff": 15
           },
           "zerolinecolor": "white",
           "zerolinewidth": 2
          }
         }
        },
        "title": {
         "text": "Distribution of Average Price by Brand (Top 4 + Other)"
        }
       }
      }
     },
     "metadata": {},
     "output_type": "display_data"
    }
   ],
   "source": [
    "import plotly.express as px\n",
    "\n",
    "# Ambil 4 nilai teratas\n",
    "top_brands = average_price_by_brand.head(4)\n",
    "\n",
    "# Hitung total harga rata-rata untuk kategori \"Other\"\n",
    "other_brands = average_price_by_brand.iloc[4:]\n",
    "total_other_price = other_brands['Average Price'].sum()\n",
    "\n",
    "# Buat DataFrame untuk kategori \"Other\"\n",
    "other_df = pd.DataFrame({'Brand': ['Other'], 'Average Price': [total_other_price]})\n",
    "\n",
    "# Gabungkan 4 nilai teratas dan kategori \"Other\" menggunakan pd.concat\n",
    "combined_brands = pd.concat([top_brands, other_df], ignore_index=True)\n",
    "\n",
    "# Buat figure dengan plotly express\n",
    "fig = px.pie(combined_brands, values='Average Price', names='Brand', \n",
    "             title='Distribution of Average Price by Brand (Top 4 + Other)',\n",
    "             color_discrete_sequence=px.colors.sequential.Viridis)\n",
    "\n",
    "# Tambahkan efek animasi\n",
    "fig.update_traces(textinfo='percent+label', pull=[0.1, 0, 0, 0, 0.1])\n",
    "\n",
    "# Menampilkan visualisasi\n",
    "fig.show()"
   ]
  },
  {
   "cell_type": "markdown",
   "metadata": {},
   "source": [
    "1. <b> Insight </b>\n",
    "\n",
    "- Luxury car brands like Ferrari, Lamborghini, McLaren, and Aston Martin command significantly higher prices compared to mass-market brands.\n",
    "\n",
    "- Brands such as Toyota, Volkswagen, Mazda, and Ford offer cars at more affordable prices, targeting the mass market.\n",
    "\n",
    "- This variation reflects the diverse market segments and consumer preferences in the automotive industry.\n",
    "\n",
    "2. <b> Tips </b>\n",
    "\n",
    "- Focusing sales on luxury car brands such as Ferrari, Lamborghini, McLaren and Aston Martin can increase revenue considering that these brands have prices that are much higher than mass market brands. However, car marketing needs to be adjusted to consumer interests, where we need to see what brand of car sells the most and provides the most revenue, focus on marketing, when we know that, we focus marketing on that brand.\n",
    "\n",
    "- Match the car brand category to your marketing target. Expensive brands are targeted for marketing to the upper class, brands that want to be marketed to the middle class, and so on\n"
   ]
  },
  {
   "cell_type": "markdown",
   "metadata": {},
   "source": [
    "### 4. How do car prices differ based on the engine cylinder car?"
   ]
  },
  {
   "cell_type": "code",
   "execution_count": 26,
   "metadata": {},
   "outputs": [
    {
     "data": {
      "text/html": [
       "<div>\n",
       "<style scoped>\n",
       "    .dataframe tbody tr th:only-of-type {\n",
       "        vertical-align: middle;\n",
       "    }\n",
       "\n",
       "    .dataframe tbody tr th {\n",
       "        vertical-align: top;\n",
       "    }\n",
       "\n",
       "    .dataframe thead th {\n",
       "        text-align: right;\n",
       "    }\n",
       "</style>\n",
       "<table border=\"1\" class=\"dataframe\">\n",
       "  <thead>\n",
       "    <tr style=\"text-align: right;\">\n",
       "      <th></th>\n",
       "      <th>Engine Cylinder</th>\n",
       "      <th>Average Price</th>\n",
       "    </tr>\n",
       "  </thead>\n",
       "  <tbody>\n",
       "    <tr>\n",
       "      <th>0</th>\n",
       "      <td>2</td>\n",
       "      <td>13490.000000</td>\n",
       "    </tr>\n",
       "    <tr>\n",
       "      <th>1</th>\n",
       "      <td>3</td>\n",
       "      <td>30208.122222</td>\n",
       "    </tr>\n",
       "    <tr>\n",
       "      <th>2</th>\n",
       "      <td>4</td>\n",
       "      <td>34459.890383</td>\n",
       "    </tr>\n",
       "    <tr>\n",
       "      <th>3</th>\n",
       "      <td>5</td>\n",
       "      <td>38567.711485</td>\n",
       "    </tr>\n",
       "    <tr>\n",
       "      <th>4</th>\n",
       "      <td>6</td>\n",
       "      <td>54041.027895</td>\n",
       "    </tr>\n",
       "    <tr>\n",
       "      <th>5</th>\n",
       "      <td>8</td>\n",
       "      <td>104349.830000</td>\n",
       "    </tr>\n",
       "    <tr>\n",
       "      <th>6</th>\n",
       "      <td>10</td>\n",
       "      <td>436900.000000</td>\n",
       "    </tr>\n",
       "    <tr>\n",
       "      <th>7</th>\n",
       "      <td>12</td>\n",
       "      <td>444388.000000</td>\n",
       "    </tr>\n",
       "  </tbody>\n",
       "</table>\n",
       "</div>"
      ],
      "text/plain": [
       "   Engine Cylinder  Average Price\n",
       "0                2   13490.000000\n",
       "1                3   30208.122222\n",
       "2                4   34459.890383\n",
       "3                5   38567.711485\n",
       "4                6   54041.027895\n",
       "5                8  104349.830000\n",
       "6               10  436900.000000\n",
       "7               12  444388.000000"
      ]
     },
     "execution_count": 26,
     "metadata": {},
     "output_type": "execute_result"
    }
   ],
   "source": [
    "# Calculating car prices differ based on the engine cylinder car\n",
    "average_price_by_Engine_Cylinder = df_2.groupby('CylindersinEngine')['Price'].mean().reset_index()\n",
    "average_price_by_Engine_Cylinder.columns = ['Engine Cylinder', 'Average Price']\n",
    "average_price_by_Engine_Cylinder"
   ]
  },
  {
   "cell_type": "code",
   "execution_count": 27,
   "metadata": {},
   "outputs": [
    {
     "name": "stderr",
     "output_type": "stream",
     "text": [
      "C:\\Users\\Ogi\\AppData\\Local\\Temp\\ipykernel_28912\\1583584416.py:7: FutureWarning:\n",
      "\n",
      "\n",
      "\n",
      "Passing `palette` without assigning `hue` is deprecated and will be removed in v0.14.0. Assign the `x` variable to `hue` and set `legend=False` for the same effect.\n",
      "\n",
      "\n"
     ]
    },
    {
     "data": {
      "image/png": "[encoded data removed]",
      "text/plain": [
       "<Figure size 1200x800 with 1 Axes>"
      ]
     },
     "metadata": {},
     "output_type": "display_data"
    }
   ],
   "source": [
    "# Set style\n",
    "sns.set(style=\"whitegrid\")\n",
    "\n",
    "# Create a bar plot with a customized color palette\n",
    "plt.figure(figsize=(12, 8))\n",
    "colors = sns.color_palette(\"rocket\", n_colors=len(average_price_by_Engine_Cylinder))\n",
    "sns.barplot(x='Engine Cylinder', y='Average Price', data=average_price_by_Engine_Cylinder, palette=colors)\n",
    "\n",
    "# Adding annotations\n",
    "for index, value in enumerate(average_price_by_Engine_Cylinder['Average Price']):\n",
    "    plt.text(index, value + 10000, f\"${value:.2f}\", ha='center', va='bottom', fontsize=10)\n",
    "\n",
    "# Add labels and title\n",
    "plt.title('Average Price by Engine Cylinder', fontsize=16, fontweight='bold')\n",
    "plt.xlabel('Engine Cylinder', fontsize=14, fontweight='bold')\n",
    "plt.ylabel('Average Price', fontsize=14, fontweight='bold')\n",
    "\n",
    "# Customize the y-axis labels as currency\n",
    "plt.gca().get_yaxis().set_major_formatter(plt.FuncFormatter(lambda x, loc: \"${:,}\".format(int(x))))\n",
    "\n",
    "# Show the plot\n",
    "plt.tight_layout()\n",
    "plt.show()"
   ]
  },
  {
   "cell_type": "markdown",
   "metadata": {},
   "source": [
    "1. <b> Insight </b>\n",
    "\n",
    "- There is a positive correlation between the number of engine cylinders and the average price of the car. In other words, cars with more engine cylinders tend to have higher prices.\n",
    "\n",
    "- Cars with Cylinders 8, 10, and 12 showed significantly higher price averages, with cylinder 12 having the highest price averages.\n",
    "\n",
    "- Cars with 6-cylinder engines have a lower average price compared to 8, 10, and 12-cylinder engines.\n",
    "\n",
    "2. <b> Tips </b>\n",
    "\n",
    "- Focusing on higher performance and luxury features in cars with a higher number of cylinders could have the opportunity to increase revenue considering that cars with 8, 10 and 12 cylinders have a higher average selling price. However, this needs to be adjusted according to the number of cars sold to adjust which cars with the most dominant number of cylinders are sold on the market"
   ]
  },
  {
   "cell_type": "markdown",
   "metadata": {},
   "source": [
    "### 5. Is there an increase in car sales from 2013 to 2023"
   ]
  },
  {
   "cell_type": "code",
   "execution_count": 28,
   "metadata": {},
   "outputs": [
    {
     "data": {
      "text/html": [
       "<div>\n",
       "<style scoped>\n",
       "    .dataframe tbody tr th:only-of-type {\n",
       "        vertical-align: middle;\n",
       "    }\n",
       "\n",
       "    .dataframe tbody tr th {\n",
       "        vertical-align: top;\n",
       "    }\n",
       "\n",
       "    .dataframe thead th {\n",
       "        text-align: right;\n",
       "    }\n",
       "</style>\n",
       "<table border=\"1\" class=\"dataframe\">\n",
       "  <thead>\n",
       "    <tr style=\"text-align: right;\">\n",
       "      <th></th>\n",
       "      <th>Year</th>\n",
       "      <th>Total Price</th>\n",
       "    </tr>\n",
       "  </thead>\n",
       "  <tbody>\n",
       "    <tr>\n",
       "      <th>0</th>\n",
       "      <td>2013</td>\n",
       "      <td>15210340</td>\n",
       "    </tr>\n",
       "    <tr>\n",
       "      <th>1</th>\n",
       "      <td>2014</td>\n",
       "      <td>17845066</td>\n",
       "    </tr>\n",
       "    <tr>\n",
       "      <th>2</th>\n",
       "      <td>2015</td>\n",
       "      <td>27564989</td>\n",
       "    </tr>\n",
       "    <tr>\n",
       "      <th>3</th>\n",
       "      <td>2016</td>\n",
       "      <td>33095155</td>\n",
       "    </tr>\n",
       "    <tr>\n",
       "      <th>4</th>\n",
       "      <td>2017</td>\n",
       "      <td>43680386</td>\n",
       "    </tr>\n",
       "    <tr>\n",
       "      <th>5</th>\n",
       "      <td>2018</td>\n",
       "      <td>55745823</td>\n",
       "    </tr>\n",
       "    <tr>\n",
       "      <th>6</th>\n",
       "      <td>2019</td>\n",
       "      <td>57794017</td>\n",
       "    </tr>\n",
       "    <tr>\n",
       "      <th>7</th>\n",
       "      <td>2020</td>\n",
       "      <td>47227139</td>\n",
       "    </tr>\n",
       "    <tr>\n",
       "      <th>8</th>\n",
       "      <td>2021</td>\n",
       "      <td>48600503</td>\n",
       "    </tr>\n",
       "    <tr>\n",
       "      <th>9</th>\n",
       "      <td>2022</td>\n",
       "      <td>63659508</td>\n",
       "    </tr>\n",
       "    <tr>\n",
       "      <th>10</th>\n",
       "      <td>2023</td>\n",
       "      <td>33833061</td>\n",
       "    </tr>\n",
       "  </tbody>\n",
       "</table>\n",
       "</div>"
      ],
      "text/plain": [
       "    Year  Total Price\n",
       "0   2013     15210340\n",
       "1   2014     17845066\n",
       "2   2015     27564989\n",
       "3   2016     33095155\n",
       "4   2017     43680386\n",
       "5   2018     55745823\n",
       "6   2019     57794017\n",
       "7   2020     47227139\n",
       "8   2021     48600503\n",
       "9   2022     63659508\n",
       "10  2023     33833061"
      ]
     },
     "execution_count": 28,
     "metadata": {},
     "output_type": "execute_result"
    }
   ],
   "source": [
    "# Calculate the total price each year\n",
    "price_year = df_2.groupby('Year')['Price'].sum().reset_index()\n",
    "price_year.columns = ['Year', 'Total Price']\n",
    "price_year"
   ]
  },
  {
   "cell_type": "code",
   "execution_count": 29,
   "metadata": {},
   "outputs": [
    {
     "data": {
      "application/vnd.plotly.v1+json": {
       "config": {
        "plotlyServerURL": "https://plot.ly"
       },
       "data": [
        {
         "hovertemplate": "Year=%{x}<br>Total Sales=%{y}<extra></extra>",
         "legendgroup": "",
         "line": {
          "color": "#636efa",
          "dash": "solid",
          "shape": "linear"
         },
         "marker": {
          "symbol": "circle"
         },
         "mode": "lines",
         "name": "",
         "orientation": "v",
         "showlegend": false,
         "type": "scatter",
         "x": [
          2013,
          2014,
          2015,
          2016,
          2017,
          2018,
          2019,
          2020,
          2021,
          2022,
          2023
         ],
         "xaxis": "x",
         "y": [
          15210340,
          17845066,
          27564989,
          33095155,
          43680386,
          55745823,
          57794017,
          47227139,
          48600503,
          63659508,
          33833061
         ],
         "yaxis": "y"
        }
       ],
       "layout": {
        "annotations": [
         {
          "arrowhead": 5,
          "ax": 0,
          "ay": -40,
          "showarrow": true,
          "text": "$15,210,340",
          "x": 2013,
          "y": 15210340
         },
         {
          "arrowhead": 5,
          "ax": 0,
          "ay": -40,
          "showarrow": true,
          "text": "$17,845,066",
          "x": 2014,
          "y": 17845066
         },
         {
          "arrowhead": 5,
          "ax": 0,
          "ay": -40,
          "showarrow": true,
          "text": "$27,564,989",
          "x": 2015,
          "y": 27564989
         },
         {
          "arrowhead": 5,
          "ax": 0,
          "ay": -40,
          "showarrow": true,
          "text": "$33,095,155",
          "x": 2016,
          "y": 33095155
         },
         {
          "arrowhead": 5,
          "ax": 0,
          "ay": -40,
          "showarrow": true,
          "text": "$43,680,386",
          "x": 2017,
          "y": 43680386
         },
         {
          "arrowhead": 5,
          "ax": 0,
          "ay": -40,
          "showarrow": true,
          "text": "$55,745,823",
          "x": 2018,
          "y": 55745823
         },
         {
          "arrowhead": 5,
          "ax": 0,
          "ay": -40,
          "showarrow": true,
          "text": "$57,794,017",
          "x": 2019,
          "y": 57794017
         },
         {
          "arrowhead": 5,
          "ax": 0,
          "ay": -40,
          "showarrow": true,
          "text": "$47,227,139",
          "x": 2020,
          "y": 47227139
         },
         {
          "arrowhead": 5,
          "ax": 0,
          "ay": -40,
          "showarrow": true,
          "text": "$48,600,503",
          "x": 2021,
          "y": 48600503
         },
         {
          "arrowhead": 5,
          "ax": 0,
          "ay": -40,
          "showarrow": true,
          "text": "$63,659,508",
          "x": 2022,
          "y": 63659508
         },
         {
          "arrowhead": 5,
          "ax": 0,
          "ay": -40,
          "showarrow": true,
          "text": "$33,833,061",
          "x": 2023,
          "y": 33833061
         }
        ],
        "legend": {
         "tracegroupgap": 0
        },
        "showlegend": false,
        "template": {
         "data": {
          "bar": [
           {
            "error_x": {
             "color": "#2a3f5f"
            },
            "error_y": {
             "color": "#2a3f5f"
            },
            "marker": {
             "line": {
              "color": "#E5ECF6",
              "width": 0.5
             },
             "pattern": {
              "fillmode": "overlay",
              "size": 10,
              "solidity": 0.2
             }
            },
            "type": "bar"
           }
          ],
          "barpolar": [
           {
            "marker": {
             "line": {
              "color": "#E5ECF6",
              "width": 0.5
             },
             "pattern": {
              "fillmode": "overlay",
              "size": 10,
              "solidity": 0.2
             }
            },
            "type": "barpolar"
           }
          ],
          "carpet": [
           {
            "aaxis": {
             "endlinecolor": "#2a3f5f",
             "gridcolor": "white",
             "linecolor": "white",
             "minorgridcolor": "white",
             "startlinecolor": "#2a3f5f"
            },
            "baxis": {
             "endlinecolor": "#2a3f5f",
             "gridcolor": "white",
             "linecolor": "white",
             "minorgridcolor": "white",
             "startlinecolor": "#2a3f5f"
            },
            "type": "carpet"
           }
          ],
          "choropleth": [
           {
            "colorbar": {
             "outlinewidth": 0,
             "ticks": ""
            },
            "type": "choropleth"
           }
          ],
          "contour": [
           {
            "colorbar": {
             "outlinewidth": 0,
             "ticks": ""
            },
            "colorscale": [
             [
              0,
              "#0d0887"
             ],
             [
              0.1111111111111111,
              "#46039f"
             ],
             [
              0.2222222222222222,
              "#7201a8"
             ],
             [
              0.3333333333333333,
              "#9c179e"
             ],
             [
              0.4444444444444444,
              "#bd3786"
             ],
             [
              0.5555555555555556,
              "#d8576b"
             ],
             [
              0.6666666666666666,
              "#ed7953"
             ],
             [
              0.7777777777777778,
              "#fb9f3a"
             ],
             [
              0.8888888888888888,
              "#fdca26"
             ],
             [
              1,
              "#f0f921"
             ]
            ],
            "type": "contour"
           }
          ],
          "contourcarpet": [
           {
            "colorbar": {
             "outlinewidth": 0,
             "ticks": ""
            },
            "type": "contourcarpet"
           }
          ],
          "heatmap": [
           {
            "colorbar": {
             "outlinewidth": 0,
             "ticks": ""
            },
            "colorscale": [
             [
              0,
              "#0d0887"
             ],
             [
              0.1111111111111111,
              "#46039f"
             ],
             [
              0.2222222222222222,
              "#7201a8"
             ],
             [
              0.3333333333333333,
              "#9c179e"
             ],
             [
              0.4444444444444444,
              "#bd3786"
             ],
             [
              0.5555555555555556,
              "#d8576b"
             ],
             [
              0.6666666666666666,
              "#ed7953"
             ],
             [
              0.7777777777777778,
              "#fb9f3a"
             ],
             [
              0.8888888888888888,
              "#fdca26"
             ],
             [
              1,
              "#f0f921"
             ]
            ],
            "type": "heatmap"
           }
          ],
          "heatmapgl": [
           {
            "colorbar": {
             "outlinewidth": 0,
             "ticks": ""
            },
            "colorscale": [
             [
              0,
              "#0d0887"
             ],
             [
              0.1111111111111111,
              "#46039f"
             ],
             [
              0.2222222222222222,
              "#7201a8"
             ],
             [
              0.3333333333333333,
              "#9c179e"
             ],
             [
              0.4444444444444444,
              "#bd3786"
             ],
             [
              0.5555555555555556,
              "#d8576b"
             ],
             [
              0.6666666666666666,
              "#ed7953"
             ],
             [
              0.7777777777777778,
              "#fb9f3a"
             ],
             [
              0.8888888888888888,
              "#fdca26"
             ],
             [
              1,
              "#f0f921"
             ]
            ],
            "type": "heatmapgl"
           }
          ],
          "histogram": [
           {
            "marker": {
             "pattern": {
              "fillmode": "overlay",
              "size": 10,
              "solidity": 0.2
             }
            },
            "type": "histogram"
           }
          ],
          "histogram2d": [
           {
            "colorbar": {
             "outlinewidth": 0,
             "ticks": ""
            },
            "colorscale": [
             [
              0,
              "#0d0887"
             ],
             [
              0.1111111111111111,
              "#46039f"
             ],
             [
              0.2222222222222222,
              "#7201a8"
             ],
             [
              0.3333333333333333,
              "#9c179e"
             ],
             [
              0.4444444444444444,
              "#bd3786"
             ],
             [
              0.5555555555555556,
              "#d8576b"
             ],
             [
              0.6666666666666666,
              "#ed7953"
             ],
             [
              0.7777777777777778,
              "#fb9f3a"
             ],
             [
              0.8888888888888888,
              "#fdca26"
             ],
             [
              1,
              "#f0f921"
             ]
            ],
            "type": "histogram2d"
           }
          ],
          "histogram2dcontour": [
           {
            "colorbar": {
             "outlinewidth": 0,
             "ticks": ""
            },
            "colorscale": [
             [
              0,
              "#0d0887"
             ],
             [
              0.1111111111111111,
              "#46039f"
             ],
             [
              0.2222222222222222,
              "#7201a8"
             ],
             [
              0.3333333333333333,
              "#9c179e"
             ],
             [
              0.4444444444444444,
              "#bd3786"
             ],
             [
              0.5555555555555556,
              "#d8576b"
             ],
             [
              0.6666666666666666,
              "#ed7953"
             ],
             [
              0.7777777777777778,
              "#fb9f3a"
             ],
             [
              0.8888888888888888,
              "#fdca26"
             ],
             [
              1,
              "#f0f921"
             ]
            ],
            "type": "histogram2dcontour"
           }
          ],
          "mesh3d": [
           {
            "colorbar": {
             "outlinewidth": 0,
             "ticks": ""
            },
            "type": "mesh3d"
           }
          ],
          "parcoords": [
           {
            "line": {
             "colorbar": {
              "outlinewidth": 0,
              "ticks": ""
             }
            },
            "type": "parcoords"
           }
          ],
          "pie": [
           {
            "automargin": true,
            "type": "pie"
           }
          ],
          "scatter": [
           {
            "fillpattern": {
             "fillmode": "overlay",
             "size": 10,
             "solidity": 0.2
            },
            "type": "scatter"
           }
          ],
          "scatter3d": [
           {
            "line": {
             "colorbar": {
              "outlinewidth": 0,
              "ticks": ""
             }
            },
            "marker": {
             "colorbar": {
              "outlinewidth": 0,
              "ticks": ""
             }
            },
            "type": "scatter3d"
           }
          ],
          "scattercarpet": [
           {
            "marker": {
             "colorbar": {
              "outlinewidth": 0,
              "ticks": ""
             }
            },
            "type": "scattercarpet"
           }
          ],
          "scattergeo": [
           {
            "marker": {
             "colorbar": {
              "outlinewidth": 0,
              "ticks": ""
             }
            },
            "type": "scattergeo"
           }
          ],
          "scattergl": [
           {
            "marker": {
             "colorbar": {
              "outlinewidth": 0,
              "ticks": ""
             }
            },
            "type": "scattergl"
           }
          ],
          "scattermapbox": [
           {
            "marker": {
             "colorbar": {
              "outlinewidth": 0,
              "ticks": ""
             }
            },
            "type": "scattermapbox"
           }
          ],
          "scatterpolar": [
           {
            "marker": {
             "colorbar": {
              "outlinewidth": 0,
              "ticks": ""
             }
            },
            "type": "scatterpolar"
           }
          ],
          "scatterpolargl": [
           {
            "marker": {
             "colorbar": {
              "outlinewidth": 0,
              "ticks": ""
             }
            },
            "type": "scatterpolargl"
           }
          ],
          "scatterternary": [
           {
            "marker": {
             "colorbar": {
              "outlinewidth": 0,
              "ticks": ""
             }
            },
            "type": "scatterternary"
           }
          ],
          "surface": [
           {
            "colorbar": {
             "outlinewidth": 0,
             "ticks": ""
            },
            "colorscale": [
             [
              0,
              "#0d0887"
             ],
             [
              0.1111111111111111,
              "#46039f"
             ],
             [
              0.2222222222222222,
              "#7201a8"
             ],
             [
              0.3333333333333333,
              "#9c179e"
             ],
             [
              0.4444444444444444,
              "#bd3786"
             ],
             [
              0.5555555555555556,
              "#d8576b"
             ],
             [
              0.6666666666666666,
              "#ed7953"
             ],
             [
              0.7777777777777778,
              "#fb9f3a"
             ],
             [
              0.8888888888888888,
              "#fdca26"
             ],
             [
              1,
              "#f0f921"
             ]
            ],
            "type": "surface"
           }
          ],
          "table": [
           {
            "cells": {
             "fill": {
              "color": "#EBF0F8"
             },
             "line": {
              "color": "white"
             }
            },
            "header": {
             "fill": {
              "color": "#C8D4E3"
             },
             "line": {
              "color": "white"
             }
            },
            "type": "table"
           }
          ]
         },
         "layout": {
          "annotationdefaults": {
           "arrowcolor": "#2a3f5f",
           "arrowhead": 0,
           "arrowwidth": 1
          },
          "autotypenumbers": "strict",
          "coloraxis": {
           "colorbar": {
            "outlinewidth": 0,
            "ticks": ""
           }
          },
          "colorscale": {
           "diverging": [
            [
             0,
             "#8e0152"
            ],
            [
             0.1,
             "#c51b7d"
            ],
            [
             0.2,
             "#de77ae"
            ],
            [
             0.3,
             "#f1b6da"
            ],
            [
             0.4,
             "#fde0ef"
            ],
            [
             0.5,
             "#f7f7f7"
            ],
            [
             0.6,
             "#e6f5d0"
            ],
            [
             0.7,
             "#b8e186"
            ],
            [
             0.8,
             "#7fbc41"
            ],
            [
             0.9,
             "#4d9221"
            ],
            [
             1,
             "#276419"
            ]
           ],
           "sequential": [
            [
             0,
             "#0d0887"
            ],
            [
             0.1111111111111111,
             "#46039f"
            ],
            [
             0.2222222222222222,
             "#7201a8"
            ],
            [
             0.3333333333333333,
             "#9c179e"
            ],
            [
             0.4444444444444444,
             "#bd3786"
            ],
            [
             0.5555555555555556,
             "#d8576b"
            ],
            [
             0.6666666666666666,
             "#ed7953"
            ],
            [
             0.7777777777777778,
             "#fb9f3a"
            ],
            [
             0.8888888888888888,
             "#fdca26"
            ],
            [
             1,
             "#f0f921"
            ]
           ],
           "sequentialminus": [
            [
             0,
             "#0d0887"
            ],
            [
             0.1111111111111111,
             "#46039f"
            ],
            [
             0.2222222222222222,
             "#7201a8"
            ],
            [
             0.3333333333333333,
             "#9c179e"
            ],
            [
             0.4444444444444444,
             "#bd3786"
            ],
            [
             0.5555555555555556,
             "#d8576b"
            ],
            [
             0.6666666666666666,
             "#ed7953"
            ],
            [
             0.7777777777777778,
             "#fb9f3a"
            ],
            [
             0.8888888888888888,
             "#fdca26"
            ],
            [
             1,
             "#f0f921"
            ]
           ]
          },
          "colorway": [
           "#636efa",
           "#EF553B",
           "#00cc96",
           "#ab63fa",
           "#FFA15A",
           "#19d3f3",
           "#FF6692",
           "#B6E880",
           "#FF97FF",
           "#FECB52"
          ],
          "font": {
           "color": "#2a3f5f"
          },
          "geo": {
           "bgcolor": "white",
           "lakecolor": "white",
           "landcolor": "#E5ECF6",
           "showlakes": true,
           "showland": true,
           "subunitcolor": "white"
          },
          "hoverlabel": {
           "align": "left"
          },
          "hovermode": "closest",
          "mapbox": {
           "style": "light"
          },
          "paper_bgcolor": "white",
          "plot_bgcolor": "#E5ECF6",
          "polar": {
           "angularaxis": {
            "gridcolor": "white",
            "linecolor": "white",
            "ticks": ""
           },
           "bgcolor": "#E5ECF6",
           "radialaxis": {
            "gridcolor": "white",
            "linecolor": "white",
            "ticks": ""
           }
          },
          "scene": {
           "xaxis": {
            "backgroundcolor": "#E5ECF6",
            "gridcolor": "white",
            "gridwidth": 2,
            "linecolor": "white",
            "showbackground": true,
            "ticks": "",
            "zerolinecolor": "white"
           },
           "yaxis": {
            "backgroundcolor": "#E5ECF6",
            "gridcolor": "white",
            "gridwidth": 2,
            "linecolor": "white",
            "showbackground": true,
            "ticks": "",
            "zerolinecolor": "white"
           },
           "zaxis": {
            "backgroundcolor": "#E5ECF6",
            "gridcolor": "white",
            "gridwidth": 2,
            "linecolor": "white",
            "showbackground": true,
            "ticks": "",
            "zerolinecolor": "white"
           }
          },
          "shapedefaults": {
           "line": {
            "color": "#2a3f5f"
           }
          },
          "ternary": {
           "aaxis": {
            "gridcolor": "white",
            "linecolor": "white",
            "ticks": ""
           },
           "baxis": {
            "gridcolor": "white",
            "linecolor": "white",
            "ticks": ""
           },
           "bgcolor": "#E5ECF6",
           "caxis": {
            "gridcolor": "white",
            "linecolor": "white",
            "ticks": ""
           }
          },
          "title": {
           "x": 0.05
          },
          "xaxis": {
           "automargin": true,
           "gridcolor": "white",
           "linecolor": "white",
           "ticks": "",
           "title": {
            "standoff": 15
           },
           "zerolinecolor": "white",
           "zerolinewidth": 2
          },
          "yaxis": {
           "automargin": true,
           "gridcolor": "white",
           "linecolor": "white",
           "ticks": "",
           "title": {
            "standoff": 15
           },
           "zerolinecolor": "white",
           "zerolinewidth": 2
          }
         }
        },
        "title": {
         "text": "Total Sales Each Year"
        },
        "xaxis": {
         "anchor": "y",
         "domain": [
          0,
          1
         ],
         "tickangle": -45,
         "tickmode": "linear",
         "title": {
          "text": "Year"
         }
        },
        "yaxis": {
         "anchor": "x",
         "domain": [
          0,
          1
         ],
         "title": {
          "text": "Total Price"
         }
        }
       }
      }
     },
     "metadata": {},
     "output_type": "display_data"
    }
   ],
   "source": [
    "# Calculate the total price each year\n",
    "price_year = df_2.groupby('Year')['Price'].sum().reset_index()\n",
    "price_year.columns = ['Year', 'Total Price']\n",
    "\n",
    "# Create an interactive line chart with Plotly\n",
    "fig = px.line(price_year, x='Year', y='Total Price', labels={'Total Price': 'Total Sales'}, \n",
    "              title='Total Sales Each Year', line_shape='linear')\n",
    "\n",
    "# Adding annotations\n",
    "for index, row in price_year.iterrows():\n",
    "    fig.add_annotation(\n",
    "        x=row['Year'],\n",
    "        y=row['Total Price'],\n",
    "        text=f\"${row['Total Price']:,}\",\n",
    "        showarrow=True,\n",
    "        arrowhead=5,\n",
    "        ax=0,\n",
    "        ay=-40\n",
    "    )\n",
    "\n",
    "# Customize the plot\n",
    "fig.update_layout(\n",
    "    xaxis_title='Year',\n",
    "    yaxis_title='Total Price',\n",
    "    xaxis=dict(tickmode='linear'),\n",
    "    xaxis_tickangle=-45,\n",
    "    showlegend=False  # Do not display legend for a cleaner look\n",
    ")\n",
    "\n",
    "# Show the plot\n",
    "fig.show()"
   ]
  },
  {
   "cell_type": "markdown",
   "metadata": {},
   "source": [
    "1. <b> Insight </b>\n",
    "\n",
    "- There was an increasing trend in car sales from 2013 until it reached a peak in 2022, where sales reached the highest figure of 63,659,508$.\n",
    "\n",
    "- However, in 2023, there will be a drastic decrease to almost half of the previous year's sales, reaching 33,833,061$.\n",
    "\n",
    "- These variations indicate significant fluctuations in the car market from year to year.\n",
    "\n",
    "- lthough there is a consistent upward trend through 2022, a dramatic decline in 2023 indicates a change in consumer interest in car purchases\n"
   ]
  },
  {
   "cell_type": "markdown",
   "metadata": {},
   "source": [
    "## Descriptive Statistics"
   ]
  },
  {
   "cell_type": "markdown",
   "metadata": {},
   "source": [
    "### 1. How is the data on car sales prices from 2013 to 2023 centralized in Australia"
   ]
  },
  {
   "cell_type": "code",
   "execution_count": 30,
   "metadata": {},
   "outputs": [
    {
     "name": "stdout",
     "output_type": "stream",
     "text": [
      "Cars Price average in Australia: 39089.83607567092\n",
      "Cars Price median in Australia: 32800.0\n",
      "Cars Price average in Australia: 29990\n"
     ]
    }
   ],
   "source": [
    "# Displays the mean, median, and mode of car selling prices\n",
    "print('Cars Price average in Australia:',df_2['Price'].mean())\n",
    "print('Cars Price median in Australia:',df_2['Price'].median())\n",
    "print('Cars Price average in Australia:',df_2['Price'].mode().values[0])"
   ]
  },
  {
   "cell_type": "markdown",
   "metadata": {},
   "source": [
    "> Average car price: it can be seen that the average price of cars sold in Australia is 39089.836 $.\n",
    "\n",
    "> Median Car Price: when all car prices are sorted, the median value obtained is 32800.0 $\n",
    "\n",
    "> Car Price Mode: The mode is the value that represents the number that appears most frequently, this shows that $29990 is the selling price of cars that are commonly found in Australia."
   ]
  },
  {
   "cell_type": "code",
   "execution_count": 31,
   "metadata": {},
   "outputs": [
    {
     "name": "stdout",
     "output_type": "stream",
     "text": [
      "Skewness: 5.448168429074292\n",
      "Kurtosis: 62.512410519120536\n"
     ]
    }
   ],
   "source": [
    "# Displays the skewness and kurtosis of car selling prices\n",
    "print(f\"Skewness: {df_2['Price'].skew()}\")\n",
    "print(f\"Kurtosis: {df_2['Price'].kurtosis()}\")"
   ]
  },
  {
   "cell_type": "markdown",
   "metadata": {},
   "source": [
    "Based on the data we get, it can be concluded that:\n",
    "\n",
    "> Car prices have a mean -> 39089,836 $, median -> 32800 %, when the mean value is not the same as the median price we can conclude that there are outliers in the car price and the median value is smaller than the mean value which indicates the data is skewed to the left. The Skewness value is above number 1, namely 5.448, which means that the distribution of this data is not normal and is positive skew. The value of kurtosis is also far above the number 0, namely 62,512, this indicates that this is leprokurtic kurtosis and the potential for outliers in the data is quite large.\n",
    "\n",
    "> The presence of outliers in the data does not mean that the outlier data must be discarded. As in the case of this analysis, the condition of positive skewness indicates that many car prices are below the average, but in the analysis and observations that we are doing, we need the outlier data for further analysis."
   ]
  },
  {
   "cell_type": "markdown",
   "metadata": {},
   "source": [
    "### 2. How do specific features affect the pricing of the cars?"
   ]
  },
  {
   "cell_type": "markdown",
   "metadata": {},
   "source": [
    "#### a. Is there a correlation between the type of transmission and the selling price of the car?"
   ]
  },
  {
   "cell_type": "code",
   "execution_count": 32,
   "metadata": {},
   "outputs": [
    {
     "name": "stdout",
     "output_type": "stream",
     "text": [
      "rho-correlation: -0.13\n",
      "p-value: 7.75510192226195e-42\n"
     ]
    }
   ],
   "source": [
    "#spearman test\n",
    "corr_rho, pval_s = stats.spearmanr(df_2['Transmission'], df_2['Price'])\n",
    "\n",
    "print(f\"rho-correlation: {corr_rho:.2f}\")\n",
    "print(f\"p-value: {pval_s}\")"
   ]
  },
  {
   "cell_type": "markdown",
   "metadata": {},
   "source": [
    "This analysis looks for whether there is a correlation between types of car transmission and the selling price of the car using the Spearman method. The hypothesis in this analysis is:\n",
    "\n",
    "$H_0$: `There is no correlation between types of car transmission and the selling price of the car`\n",
    "\n",
    "$H_1$: `There is a correlation between types of car transmission and the selling price of the car`\n",
    "\n",
    "Because the p-value obtained is much smaller than the critical value (0.05), namely 7.755e-42, it can be concluded that H0 is rejected and there is a correlation between types of car transmission and the selling price of the car. The correlation between these two variables is inversely proportional and not very strong, this can be seen from the rho-correlation value (-0.13) which is quite low and negative."
   ]
  },
  {
   "cell_type": "markdown",
   "metadata": {},
   "source": [
    "#### b. Is there a correlation between the type of fuel and the selling price of the car?"
   ]
  },
  {
   "cell_type": "code",
   "execution_count": 33,
   "metadata": {},
   "outputs": [
    {
     "name": "stdout",
     "output_type": "stream",
     "text": [
      "rho-correlation: -0.35\n",
      "p-value: 0.0\n"
     ]
    }
   ],
   "source": [
    "#spearman test\n",
    "corr_rho, pval_s = stats.spearmanr(df_2['FuelType'], df_2['Price'])\n",
    "\n",
    "print(f\"rho-correlation: {corr_rho:.2f}\")\n",
    "print(f\"p-value: {pval_s}\")"
   ]
  },
  {
   "cell_type": "markdown",
   "metadata": {},
   "source": [
    "This analysis looks for whether there is a correlation between types of car fuel and the selling price of the car using the Spearman method. The hypothesis in this analysis is:\n",
    "\n",
    "$H_0$: `There is no correlation between types of car fuel and the selling price of the car`\n",
    "\n",
    "$H_1$: `There is a correlation between types of car fuel and the selling price of the car`\n",
    "\n",
    "Because the p-value obtained is so much small, p-value: 0.0, and its smaller than the critical value (0.05), it can be concluded that H0 is rejected and there is a correlation between types of car fuel and the selling price of the car. The correlation between these two variables is inversely proportional and not very strong, this can be seen from the rho-correlation value (-0.35) which is quite low and negative."
   ]
  },
  {
   "cell_type": "markdown",
   "metadata": {},
   "source": [
    "#### c. Is there a correlation between Body Type and the selling price of a car?"
   ]
  },
  {
   "cell_type": "code",
   "execution_count": 34,
   "metadata": {},
   "outputs": [
    {
     "name": "stdout",
     "output_type": "stream",
     "text": [
      "rho-correlation: 0.19\n",
      "p-value: 5.746915059385627e-93\n"
     ]
    }
   ],
   "source": [
    "#spearman test\n",
    "corr_rho, pval_s = stats.spearmanr(df_2['BodyType'], df_2['Price'])\n",
    "\n",
    "print(f\"rho-correlation: {corr_rho:.2f}\")\n",
    "print(f\"p-value: {pval_s}\")"
   ]
  },
  {
   "cell_type": "markdown",
   "metadata": {},
   "source": [
    "This analysis looks for whether there is a correlation between types of car body and the selling price of the car using the Spearman method. The hypothesis in this analysis is:\n",
    "\n",
    "$H_0$: `There is no correlation between types of car body and the selling price of the car`\n",
    "\n",
    "$H_1$: `There is a correlation between types of car body and the selling price of the car`\n",
    "\n",
    "Because the p-value obtained is much smaller than the critical value (0.05), namely 5.7469e-93, it can be concluded that H0 is rejected and there is a correlation between types of car body and the selling price of the car. The correlation between these two variables is directly proportional and not very strong, this can be seen from the rho-correlation value (0.19) which is quite low and positive."
   ]
  },
  {
   "cell_type": "markdown",
   "metadata": {},
   "source": [
    "#### d. Is there a correlation between the number of car doors and the selling price of the car?"
   ]
  },
  {
   "cell_type": "code",
   "execution_count": 35,
   "metadata": {},
   "outputs": [
    {
     "name": "stdout",
     "output_type": "stream",
     "text": [
      "rho-correlation: -0.17\n",
      "p-value: 1.7950040433706827e-76\n"
     ]
    }
   ],
   "source": [
    "#spearman test\n",
    "corr_rho, pval_s = stats.spearmanr(df_2['Doors'], df_2['Price'])\n",
    "\n",
    "print(f\"rho-correlation: {corr_rho:.2f}\")\n",
    "print(f\"p-value: {pval_s}\")"
   ]
  },
  {
   "cell_type": "markdown",
   "metadata": {},
   "source": [
    "This analysis looks for whether there is a correlation between the many car doors and the selling price of the car using the Spearman method. The hypothesis in this analysis is:\n",
    "\n",
    "$H_0$: `There is no correlation between the many car doors and the selling price of the car`\n",
    "\n",
    "$H_1$: `There is a correlation between the many car doors and the selling price of the car`\n",
    "\n",
    "Because the p-value obtained is much smaller than the critical value (0.05), namely 1.795e-76, it can be concluded that H0 is rejected and there is a correlation between the many car doors and the selling price of the car. The correlation between these two variables is inversely proportional and not very strong, this can be seen from the rho-correlation value (-0.17) which is quite low and negative."
   ]
  },
  {
   "cell_type": "markdown",
   "metadata": {},
   "source": [
    "#### e. Is there a correlation between the number of car seats and the selling price of the car?"
   ]
  },
  {
   "cell_type": "code",
   "execution_count": 36,
   "metadata": {},
   "outputs": [
    {
     "name": "stdout",
     "output_type": "stream",
     "text": [
      "rho-correlation: 0.11\n",
      "p-value: 5.220498365096502e-31\n"
     ]
    }
   ],
   "source": [
    "#spearman test\n",
    "corr_rho, pval_s = stats.spearmanr(df_2['Seats'], df_2['Price'])\n",
    "\n",
    "print(f\"rho-correlation: {corr_rho:.2f}\")\n",
    "print(f\"p-value: {pval_s}\")"
   ]
  },
  {
   "cell_type": "markdown",
   "metadata": {},
   "source": [
    "This analysis looks for whether there is a correlation between the many car seats and the selling price of the car using the Spearman method. The hypothesis in this analysis is:\n",
    "\n",
    "$H_0$: `There is no correlation between the many car seats and the selling price of the car`\n",
    "\n",
    "$H_1$: `There is a correlation between the many car seats and the selling price of the car`\n",
    "\n",
    "Because the p-value obtained is much smaller than the critical value (0.05), namely 5.22e-31, it can be concluded that H0 is rejected and there is a correlation between the many car seats and the selling price of the car. The correlation between these two variables is directly proportional and not very strong, this can be seen from the rho-correlation value (0.11) which is quite low and positive."
   ]
  },
  {
   "cell_type": "markdown",
   "metadata": {},
   "source": [
    "## Inferential Statistics"
   ]
  },
  {
   "cell_type": "markdown",
   "metadata": {},
   "source": [
    "### Is there a significant price difference between existing car brands?"
   ]
  },
  {
   "cell_type": "code",
   "execution_count": 37,
   "metadata": {},
   "outputs": [
    {
     "data": {
      "text/html": [
       "<div>\n",
       "<style scoped>\n",
       "    .dataframe tbody tr th:only-of-type {\n",
       "        vertical-align: middle;\n",
       "    }\n",
       "\n",
       "    .dataframe tbody tr th {\n",
       "        vertical-align: top;\n",
       "    }\n",
       "\n",
       "    .dataframe thead th {\n",
       "        text-align: right;\n",
       "    }\n",
       "</style>\n",
       "<table border=\"1\" class=\"dataframe\">\n",
       "  <thead>\n",
       "    <tr style=\"text-align: right;\">\n",
       "      <th></th>\n",
       "      <th>Brand</th>\n",
       "      <th>Year</th>\n",
       "      <th>Model</th>\n",
       "      <th>Car/Suv</th>\n",
       "      <th>Transmission</th>\n",
       "      <th>FuelType</th>\n",
       "      <th>CylindersinEngine</th>\n",
       "      <th>BodyType</th>\n",
       "      <th>Doors</th>\n",
       "      <th>Seats</th>\n",
       "      <th>Price</th>\n",
       "      <th>State</th>\n",
       "    </tr>\n",
       "  </thead>\n",
       "  <tbody>\n",
       "    <tr>\n",
       "      <th>0</th>\n",
       "      <td>Ssangyong</td>\n",
       "      <td>2022</td>\n",
       "      <td>Rexton</td>\n",
       "      <td>Sutherland Isuzu Ute</td>\n",
       "      <td>Automatic</td>\n",
       "      <td>Diesel</td>\n",
       "      <td>4</td>\n",
       "      <td>SUV</td>\n",
       "      <td>4</td>\n",
       "      <td>7</td>\n",
       "      <td>51990</td>\n",
       "      <td>New South Wales</td>\n",
       "    </tr>\n",
       "    <tr>\n",
       "      <th>1</th>\n",
       "      <td>MG</td>\n",
       "      <td>2022</td>\n",
       "      <td>MG3</td>\n",
       "      <td>Hatchback</td>\n",
       "      <td>Automatic</td>\n",
       "      <td>Premium</td>\n",
       "      <td>4</td>\n",
       "      <td>Hatchback</td>\n",
       "      <td>5</td>\n",
       "      <td>5</td>\n",
       "      <td>19990</td>\n",
       "      <td>New South Wales</td>\n",
       "    </tr>\n",
       "    <tr>\n",
       "      <th>2</th>\n",
       "      <td>BMW</td>\n",
       "      <td>2022</td>\n",
       "      <td>430I</td>\n",
       "      <td>Coupe</td>\n",
       "      <td>Automatic</td>\n",
       "      <td>Premium</td>\n",
       "      <td>4</td>\n",
       "      <td>Coupe</td>\n",
       "      <td>2</td>\n",
       "      <td>4</td>\n",
       "      <td>108988</td>\n",
       "      <td>New South Wales</td>\n",
       "    </tr>\n",
       "    <tr>\n",
       "      <th>3</th>\n",
       "      <td>Renault</td>\n",
       "      <td>2022</td>\n",
       "      <td>Arkana</td>\n",
       "      <td>SUV</td>\n",
       "      <td>Automatic</td>\n",
       "      <td>Unleaded</td>\n",
       "      <td>4</td>\n",
       "      <td>SUV</td>\n",
       "      <td>4</td>\n",
       "      <td>5</td>\n",
       "      <td>34990</td>\n",
       "      <td>New South Wales</td>\n",
       "    </tr>\n",
       "    <tr>\n",
       "      <th>4</th>\n",
       "      <td>Land</td>\n",
       "      <td>2017</td>\n",
       "      <td>Rover</td>\n",
       "      <td>SUV</td>\n",
       "      <td>Automatic</td>\n",
       "      <td>Diesel</td>\n",
       "      <td>4</td>\n",
       "      <td>SUV</td>\n",
       "      <td>2</td>\n",
       "      <td>4</td>\n",
       "      <td>62280</td>\n",
       "      <td>New South Wales</td>\n",
       "    </tr>\n",
       "    <tr>\n",
       "      <th>...</th>\n",
       "      <td>...</td>\n",
       "      <td>...</td>\n",
       "      <td>...</td>\n",
       "      <td>...</td>\n",
       "      <td>...</td>\n",
       "      <td>...</td>\n",
       "      <td>...</td>\n",
       "      <td>...</td>\n",
       "      <td>...</td>\n",
       "      <td>...</td>\n",
       "      <td>...</td>\n",
       "      <td>...</td>\n",
       "    </tr>\n",
       "    <tr>\n",
       "      <th>11360</th>\n",
       "      <td>Hyundai</td>\n",
       "      <td>2015</td>\n",
       "      <td>I30</td>\n",
       "      <td>Wagon</td>\n",
       "      <td>Automatic</td>\n",
       "      <td>Unleaded</td>\n",
       "      <td>4</td>\n",
       "      <td>Wagon</td>\n",
       "      <td>4</td>\n",
       "      <td>5</td>\n",
       "      <td>21450</td>\n",
       "      <td>Victoria State Government</td>\n",
       "    </tr>\n",
       "    <tr>\n",
       "      <th>11361</th>\n",
       "      <td>Nissan</td>\n",
       "      <td>2021</td>\n",
       "      <td>Qashqai</td>\n",
       "      <td>SUV</td>\n",
       "      <td>Automatic</td>\n",
       "      <td>Unleaded</td>\n",
       "      <td>4</td>\n",
       "      <td>SUV</td>\n",
       "      <td>4</td>\n",
       "      <td>5</td>\n",
       "      <td>36770</td>\n",
       "      <td>Queensland</td>\n",
       "    </tr>\n",
       "    <tr>\n",
       "      <th>11362</th>\n",
       "      <td>Suzuki</td>\n",
       "      <td>2022</td>\n",
       "      <td>Vitara</td>\n",
       "      <td>Bremer Suzuki - New</td>\n",
       "      <td>Automatic</td>\n",
       "      <td>Unleaded</td>\n",
       "      <td>4</td>\n",
       "      <td>SUV</td>\n",
       "      <td>4</td>\n",
       "      <td>5</td>\n",
       "      <td>35280</td>\n",
       "      <td>Queensland</td>\n",
       "    </tr>\n",
       "    <tr>\n",
       "      <th>11363</th>\n",
       "      <td>Mercedes-Benz</td>\n",
       "      <td>2016</td>\n",
       "      <td>GLC250</td>\n",
       "      <td>SUV</td>\n",
       "      <td>Automatic</td>\n",
       "      <td>Premium</td>\n",
       "      <td>4</td>\n",
       "      <td>SUV</td>\n",
       "      <td>4</td>\n",
       "      <td>5</td>\n",
       "      <td>41888</td>\n",
       "      <td>Queensland</td>\n",
       "    </tr>\n",
       "    <tr>\n",
       "      <th>11364</th>\n",
       "      <td>Mercedes-Benz</td>\n",
       "      <td>2021</td>\n",
       "      <td>C200</td>\n",
       "      <td>Sedan</td>\n",
       "      <td>Automatic</td>\n",
       "      <td>Unleaded</td>\n",
       "      <td>4</td>\n",
       "      <td>Sedan</td>\n",
       "      <td>4</td>\n",
       "      <td>5</td>\n",
       "      <td>65888</td>\n",
       "      <td>Queensland</td>\n",
       "    </tr>\n",
       "  </tbody>\n",
       "</table>\n",
       "<p>11365 rows × 12 columns</p>\n",
       "</div>"
      ],
      "text/plain": [
       "               Brand  Year    Model               Car/Suv Transmission  \\\n",
       "0          Ssangyong  2022   Rexton  Sutherland Isuzu Ute    Automatic   \n",
       "1                 MG  2022      MG3             Hatchback    Automatic   \n",
       "2                BMW  2022     430I                 Coupe    Automatic   \n",
       "3            Renault  2022   Arkana                   SUV    Automatic   \n",
       "4               Land  2017    Rover                   SUV    Automatic   \n",
       "...              ...   ...      ...                   ...          ...   \n",
       "11360        Hyundai  2015      I30                 Wagon    Automatic   \n",
       "11361         Nissan  2021  Qashqai                   SUV    Automatic   \n",
       "11362         Suzuki  2022   Vitara   Bremer Suzuki - New    Automatic   \n",
       "11363  Mercedes-Benz  2016   GLC250                   SUV    Automatic   \n",
       "11364  Mercedes-Benz  2021     C200                 Sedan    Automatic   \n",
       "\n",
       "       FuelType  CylindersinEngine   BodyType  Doors  Seats   Price  \\\n",
       "0        Diesel                  4        SUV      4      7   51990   \n",
       "1       Premium                  4  Hatchback      5      5   19990   \n",
       "2       Premium                  4      Coupe      2      4  108988   \n",
       "3      Unleaded                  4        SUV      4      5   34990   \n",
       "4        Diesel                  4        SUV      2      4   62280   \n",
       "...         ...                ...        ...    ...    ...     ...   \n",
       "11360  Unleaded                  4      Wagon      4      5   21450   \n",
       "11361  Unleaded                  4        SUV      4      5   36770   \n",
       "11362  Unleaded                  4        SUV      4      5   35280   \n",
       "11363   Premium                  4        SUV      4      5   41888   \n",
       "11364  Unleaded                  4      Sedan      4      5   65888   \n",
       "\n",
       "                           State  \n",
       "0                New South Wales  \n",
       "1                New South Wales  \n",
       "2                New South Wales  \n",
       "3                New South Wales  \n",
       "4                New South Wales  \n",
       "...                          ...  \n",
       "11360  Victoria State Government  \n",
       "11361                 Queensland  \n",
       "11362                 Queensland  \n",
       "11363                 Queensland  \n",
       "11364                 Queensland  \n",
       "\n",
       "[11365 rows x 12 columns]"
      ]
     },
     "execution_count": 37,
     "metadata": {},
     "output_type": "execute_result"
    }
   ],
   "source": [
    "# Calling Data\n",
    "df_2"
   ]
  },
  {
   "cell_type": "markdown",
   "metadata": {},
   "source": [
    "### ANOVA Testing"
   ]
  },
  {
   "cell_type": "code",
   "execution_count": 38,
   "metadata": {},
   "outputs": [
    {
     "name": "stdout",
     "output_type": "stream",
     "text": [
      "P-value: 0.0\n"
     ]
    }
   ],
   "source": [
    "# conduct an anova test\n",
    "anova_test = stats.f_oneway(*(df_2[df_2['Brand'] == brand]['Price'] for brand in df_2['Brand'].unique()))\n",
    "\n",
    "print('P-value:',anova_test.pvalue)"
   ]
  },
  {
   "cell_type": "markdown",
   "metadata": {},
   "source": [
    "This analysis looks for whether there are significant differences between the 62 car brands for which we have data, namely Toyota, Honda, Ford, Lexus, and Others. The hypothesis in this analysis is:\n",
    "\n",
    "> H0: There is no significant price difference between the 62 existing car brands.\n",
    "\n",
    "> H1: There is a significant price difference between the 62 existing car brands.\n",
    "\n",
    "Because the P-value is very low (0.0), it indicates that there is a significant difference in the average price between at least the two types of car brands tested. Therefore, we reject the Null Hypothesis (H0) and accept Hypothesis one (H1) where there is a significant difference in prices between several car brands. This correlation is strengthened based on the visualization of the average price of cars varying with the brand car where there is a significant difference in the price of each brand. For example Luxury car brands like Ferrari, Lamborghini, McLaren, and Aston Martin command significantly higher prices compared to mass-market brands."
   ]
  },
  {
   "cell_type": "markdown",
   "metadata": {},
   "source": [
    "# Conclusion"
   ]
  },
  {
   "cell_type": "markdown",
   "metadata": {},
   "source": [
    "From all the visualization and statistical analyzes that have been carried out, I, as a data analyst at Automotive, can conclude several points that can become the next car sales strategy. The points I got are:\n",
    "\n",
    "> `Regional Focus on Western Australia`: The western region, particularly Western Australia, shows a relatively high level of car consumer interest. Focusing marketing efforts in this area could lead to increased income compared to other regions.\n",
    "\n",
    "> `Opportunities with European Luxury Brands`: European car brands, including Volkswagen, Mercedes-Benz, and Audi, present an opportunity to boost revenue. Despite being considered expensive, these brands demonstrate a high level of consumer interest, indicating potential for increased income if marketed effectively.\n",
    "\n",
    "> `Strategic Focus on Toyota`: Because the dominance of the Toyota brand in total car sales revenue is quite significant and in Anova Testing it can be seen that there is a significant difference between each brand's revenue, we can focus on subsequent car sales there first. This is very helpful because the Toyota brand already has its own market and from the analysis it can be seen that consumers have a greater interest in the Toyota brand compared to other brands.\n",
    "\n",
    "> `Emphasis on Higher-Performance Cars`: Focusing on cars with higher performance and luxury features, particularly those with 8, 10, and 12 cylinders, can offer opportunities for increased revenue due to their higher average selling prices. However, this should be aligned with market demand and the dominant number of cylinders sold.\n",
    "\n",
    "> `Determine Car Criteria` In testing we found that there is a relationship between the type of transmission, type of fuel, type of car body, number of car doors, number of car seats and the sales price of the car, from here several strategic paths can be taken, where we can focus sales on cars that have the criteria - the most effective criteria.\n",
    "\n",
    "The conclusion obtained is that by combining approaches that are in accordance with the points above, Automotive Sales can maximize the opportunity to increase sales by 40% within 6 months. But it's important to remember to remain flexible and ready to adjust strategies based on market response and existing trends.\n"
   ]
  },
  {
   "cell_type": "markdown",
   "metadata": {},
   "source": []
  }
 ],
 "metadata": {
  "kernelspec": {
   "display_name": "base",
   "language": "python",
   "name": "python3"
  },
  "language_info": {
   "codemirror_mode": {
    "name": "ipython",
    "version": 3
   },
   "file_extension": ".py",
   "mimetype": "text/x-python",
   "name": "python",
   "nbconvert_exporter": "python",
   "pygments_lexer": "ipython3",
   "version": "3.11.5"
  }
 },
 "nbformat": 4,
 "nbformat_minor": 2
}
